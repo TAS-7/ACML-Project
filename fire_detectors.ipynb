{
 "cells": [
  {
   "cell_type": "markdown",
   "metadata": {
    "id": "47YK8aOy-i21"
   },
   "source": [
    "# **Imports:**"
   ]
  },
  {
   "cell_type": "code",
   "execution_count": 1,
   "metadata": {
    "executionInfo": {
     "elapsed": 3238,
     "status": "ok",
     "timestamp": 1624348697302,
     "user": {
      "displayName": "Thobelani Makeleni",
      "photoUrl": "https://lh3.googleusercontent.com/a-/AOh14GhqYvA9-prSg17kOPGHBwyqdFAF6H66mcYt_blkLA=s64",
      "userId": "06061555650403237049"
     },
     "user_tz": -120
    },
    "id": "4xJxgZE--2MK"
   },
   "outputs": [],
   "source": [
    "from tensorflow.keras.preprocessing.image import ImageDataGenerator\n",
    "from keras.callbacks import ModelCheckpoint\n",
    "import matplotlib.pyplot as plt\n",
    "from numpy.random import seed\n",
    "import tensorflow as tf\n",
    "from PIL import Image\n",
    "import pandas as pd\n",
    "import os\n",
    "tf.random.set_seed(23)\n",
    "seed(7)"
   ]
  },
  {
   "cell_type": "markdown",
   "metadata": {
    "id": "60gRnICKyxvc"
   },
   "source": [
    "### **Loading Images:**\n",
    "In this section, we load the directories of the images from the different classes."
   ]
  },
  {
   "cell_type": "code",
   "execution_count": 2,
   "metadata": {
    "executionInfo": {
     "elapsed": 593,
     "status": "ok",
     "timestamp": 1624348788079,
     "user": {
      "displayName": "Thobelani Makeleni",
      "photoUrl": "https://lh3.googleusercontent.com/a-/AOh14GhqYvA9-prSg17kOPGHBwyqdFAF6H66mcYt_blkLA=s64",
      "userId": "06061555650403237049"
     },
     "user_tz": -120
    },
    "id": "H_DkGqU665oq"
   },
   "outputs": [],
   "source": [
    "# loading data\n",
    "base_dir = 'fire_dataset'\n",
    "\n",
    "\n",
    "# loading the directories containing train and testing tests\n",
    "train_dir = os.path.join(base_dir, 'train')\n",
    "test_dir = os.path.join(base_dir, 'test')\n",
    "valid_dir = os.path.join(base_dir, 'valid')\n",
    "\n",
    "# loading the training set for both fire_images and non_fire_images\n",
    "train_fire_images_dir = os.path.join(train_dir, 'fire_images')\n",
    "train_non_fire_images_dir = os.path.join(train_dir, 'non_fire_images')\n",
    "\n",
    "\n",
    "# loading the testing set for both fire_images and non_fire_images\n",
    "test_fire_images_dir = os.path.join(test_dir, 'fire_images')\n",
    "test_non_fire_images_dir = os.path.join(test_dir, 'non_fire_images')\n",
    "\n",
    "\n",
    "# loading the validation set for both fire_images and non_fire_images\n",
    "valid_fire_images_dir = os.path.join(valid_dir, 'fire_images')\n",
    "valid_non_fire_images_dir = os.path.join(valid_dir, 'non_fire_images')\n",
    "\n"
   ]
  },
  {
   "cell_type": "markdown",
   "metadata": {
    "id": "xTX7Ya47zHnD"
   },
   "source": [
    "# **Creating data generators:**\n",
    "In this section, we generate the different ImageDataGenerators that will assist in loading the images in batches during the training of our model or testing our model."
   ]
  },
  {
   "cell_type": "code",
   "execution_count": 3,
   "metadata": {
    "colab": {
     "base_uri": "https://localhost:8080/",
     "height": 417
    },
    "executionInfo": {
     "elapsed": 394,
     "status": "error",
     "timestamp": 1624348817113,
     "user": {
      "displayName": "Thobelani Makeleni",
      "photoUrl": "https://lh3.googleusercontent.com/a-/AOh14GhqYvA9-prSg17kOPGHBwyqdFAF6H66mcYt_blkLA=s64",
      "userId": "06061555650403237049"
     },
     "user_tz": -120
    },
    "id": "dGHZ22vre9Aq",
    "outputId": "624035a5-d931-4788-9d1e-da47430db739"
   },
   "outputs": [
    {
     "name": "stdout",
     "output_type": "stream",
     "text": [
      "Found 650 images belonging to 2 classes.\n",
      "Found 200 images belonging to 2 classes.\n",
      "Found 149 images belonging to 2 classes.\n"
     ]
    }
   ],
   "source": [
    "\n",
    "#creating ImageDataGenerators that will normalize the pixels of both training and testing sets \n",
    "train_datagen = ImageDataGenerator(rescale = 1/255)\n",
    "test_datagen = ImageDataGenerator(rescale = 1/255)\n",
    "valid_datagen = ImageDataGenerator(rescale = 1./255)\n",
    "\n",
    "# flow training images in batches of 50 using train_datagen generator\n",
    "train_generator = train_datagen.flow_from_directory(train_dir, batch_size=50, class_mode='binary', target_size=(150,150))\n",
    "\n",
    "# flow testing images in batches of 10 using train_datagen generator\n",
    "test_generator = test_datagen.flow_from_directory(test_dir, batch_size=10, class_mode='binary', target_size=(150,150))\n",
    "\n",
    "# flow testing images in batches of 10 using train_datagen generator\n",
    "valid_generator = valid_datagen.flow_from_directory(valid_dir, batch_size=10, class_mode='binary', target_size=(150,150))"
   ]
  },
  {
   "cell_type": "markdown",
   "metadata": {},
   "source": [
    "Our dataset contains 999 images. The images are separated into classes, namely non-fire-images and fire images. 650 images from these two classes are reserved for training purposes and the rest for testing and validation purposes. It is clear that this dataset is small for training a CNN, so in the next section, we perform image augmentation so that on each epoch when we train and test our models a new variant of an image will be given to the network. We hope this will help to avoid the overfitting of the model."
   ]
  },
  {
   "cell_type": "markdown",
   "metadata": {},
   "source": [
    "# **Image Augmentation:**\n"
   ]
  },
  {
   "cell_type": "code",
   "execution_count": 4,
   "metadata": {},
   "outputs": [],
   "source": [
    "# augmenting the training dataset\n",
    "train_datagen = ImageDataGenerator(\n",
    "        rescale = 1./255,\n",
    "        rotation_range= 45,\n",
    "        width_shift_range=0.1,\n",
    "        height_shift_range=0.25, \n",
    "        zoom_range=0.1,\n",
    "        horizontal_flip=True, \n",
    "        vertical_flip = True,\n",
    "        brightness_range=[0.25,1.25],\n",
    "        fill_mode ='nearest'\n",
    ") \n",
    "#augmenting the testing dataset\n",
    "test_datagen = ImageDataGenerator(rotation_range= 15,\n",
    "        width_shift_range=0.1,\n",
    "        height_shift_range=0.15, \n",
    "        zoom_range=0.32,\n",
    "        horizontal_flip=True, \n",
    "        vertical_flip = True,\n",
    "        brightness_range=[0.25,1.25],\n",
    "        rescale = 1./255,\n",
    "        fill_mode = 'nearest'\n",
    "                                  \n",
    ")"
   ]
  },
  {
   "cell_type": "markdown",
   "metadata": {},
   "source": [
    "\n",
    "\n",
    "# **Initial model:** \n",
    "The network takes in an image with 150 x 150 pixels with three channels. This model consists of two layers of convolutional neural networks. The first layer of convolutional neural networks consists of five filters of size 3x3, and a relu activation function is applied to the activation maps generated by these networks. We hope this activation function will help increase the non-linearity of these activation maps. This layer is directly followed by a max-pooling layer with a window of size 2x2. This pooling layer's outputs are fed to the next layer of convolutional neural networks. This second layer of convolutional neural networks consists of 10 filters of size 3 x 3, and a relu activation function is applied to the activation maps generated by these convolutional neural networks. The outputs of this layer are then given to a max-pooling layer with a window size of 2 x 2. We want this pooling layer to reduce the dimensions of the activation maps and ultimately reduce the number of parameters in the general network. The outputs of this layer are then flattened out and fed directly to a set of fully connected neural networks whether the final classification of the image will take place.\n",
    "\n",
    "All the other models, that we will create to explore in attempt to achieve higher performance,  will be a variation of this model."
   ]
  },
  {
   "cell_type": "code",
   "execution_count": 5,
   "metadata": {
    "id": "7TCaCZwlgtHw"
   },
   "outputs": [
    {
     "name": "stdout",
     "output_type": "stream",
     "text": [
      "Model: \"sequential\"\n",
      "_________________________________________________________________\n",
      "Layer (type)                 Output Shape              Param #   \n",
      "=================================================================\n",
      "conv2d (Conv2D)              (None, 148, 148, 5)       140       \n",
      "_________________________________________________________________\n",
      "max_pooling2d (MaxPooling2D) (None, 74, 74, 5)         0         \n",
      "_________________________________________________________________\n",
      "conv2d_1 (Conv2D)            (None, 72, 72, 10)        460       \n",
      "_________________________________________________________________\n",
      "max_pooling2d_1 (MaxPooling2 (None, 36, 36, 10)        0         \n",
      "_________________________________________________________________\n",
      "flatten (Flatten)            (None, 12960)             0         \n",
      "_________________________________________________________________\n",
      "dense (Dense)                (None, 10)                129610    \n",
      "_________________________________________________________________\n",
      "dense_1 (Dense)              (None, 1)                 11        \n",
      "=================================================================\n",
      "Total params: 130,221\n",
      "Trainable params: 130,221\n",
      "Non-trainable params: 0\n",
      "_________________________________________________________________\n"
     ]
    }
   ],
   "source": [
    "# Constructing the initial model\n",
    "model = tf.keras.models.Sequential([\n",
    "    tf.keras.layers.Conv2D(5, (3,3), activation = 'relu', input_shape=(150,150,3)),\n",
    "    tf.keras.layers.MaxPooling2D((2,2)),\n",
    "    tf.keras.layers.Conv2D(10, (3,3), activation = 'relu'),\n",
    "    tf.keras.layers.MaxPooling2D(2,2),\n",
    "    tf.keras.layers.Flatten(),\n",
    "    tf.keras.layers.Dense(10, activation = 'relu'),\n",
    "    tf.keras.layers.Dense(1, activation = 'sigmoid')\n",
    "])\n",
    "\n",
    "\n",
    "# initializing optimizerz to learn the model\n",
    "lr = 0.0001\n",
    "opt = tf.keras.optimizers.Adam(learning_rate = lr)\n",
    "loss_func = 'binary_crossentropy'\n",
    "metrics_list = ['acc']\n",
    "\n",
    "# model summary\n",
    "model.summary()"
   ]
  },
  {
   "cell_type": "markdown",
   "metadata": {
    "id": "llkjH0ZVzmCo"
   },
   "source": [
    "In the next cell we first define a function to compile and train a network. We the proceed an define a function to plot the losses and accuracies of the model."
   ]
  },
  {
   "cell_type": "code",
   "execution_count": 6,
   "metadata": {
    "id": "Q37wJsUGkArY"
   },
   "outputs": [],
   "source": [
    "# compile and train the model function\n",
    "def train_model(opt, loss_func, metrics, model, file_name):\n",
    "    # compiling the model\n",
    "    model.compile(optimizer = opt, loss = loss_func, metrics = metrics_list)\n",
    "    # save best validation accuracy\n",
    "    save_best_acc = ModelCheckpoint(file_name, monitor ='val_acc', mode ='max', verbose = 1, save_best_only =True)\n",
    "    \n",
    "    # training the model\n",
    "    history = model.fit(train_generator,\n",
    "                    validation_data = test_generator,\n",
    "                    steps_per_epoch = 13,\n",
    "                    epochs = 20,\n",
    "                    validation_steps = 20,\n",
    "                    verbose = 1,\n",
    "                    shuffle = False,\n",
    "                    workers = 13,\n",
    "                    callbacks = [save_best_acc]\n",
    "    )\n",
    "    return history\n",
    "# function to plot losses and accuracies\n",
    "def loss_acc_func(model_output, model_name):\n",
    "    training_loss = model_output.history['loss']\n",
    "    validation_loss = model_output.history['val_loss']\n",
    "    training_acc = model_output.history['acc']\n",
    "    validation_acc = model_output.history['val_acc']\n",
    "    epochs_list = list(range(1, 21))\n",
    "    plt.plot(epochs_list, training_loss, label = 'training_loss', color= 'r')\n",
    "    plt.plot(epochs_list, validation_loss,label ='validation_loss', color = 'b')\n",
    "    plt.plot(epochs_list, training_acc, label = 'training_acc', color ='y')\n",
    "    plt.plot(epochs_list, validation_acc,label ='validation_acc', color ='g')\n",
    "    plt.title(\"loss & accuracy functions:\")\n",
    "    plt.xlabel(\"epochs\")\n",
    "    plt.ylabel(\"loss/acc\")\n",
    "    plt.legend()\n",
    "    plt.savefig(model_name)\n",
    "    plt.show()"
   ]
  },
  {
   "cell_type": "code",
   "execution_count": 7,
   "metadata": {},
   "outputs": [
    {
     "name": "stdout",
     "output_type": "stream",
     "text": [
      "Epoch 1/20\n",
      "13/13 [==============================] - 14s 763ms/step - loss: 0.5955 - acc: 0.7000 - val_loss: 0.5573 - val_acc: 0.7800\n",
      "\n",
      "Epoch 00001: val_acc improved from -inf to 0.78000, saving model to best_val_acc_initial_model.h5\n",
      "Epoch 2/20\n",
      "13/13 [==============================] - 12s 690ms/step - loss: 0.5429 - acc: 0.7169 - val_loss: 0.4632 - val_acc: 0.7650\n",
      "\n",
      "Epoch 00002: val_acc did not improve from 0.78000\n",
      "Epoch 3/20\n",
      "13/13 [==============================] - 13s 715ms/step - loss: 0.4800 - acc: 0.7308 - val_loss: 0.4350 - val_acc: 0.7600\n",
      "\n",
      "Epoch 00003: val_acc did not improve from 0.78000\n",
      "Epoch 4/20\n",
      "13/13 [==============================] - 14s 802ms/step - loss: 0.4359 - acc: 0.7677 - val_loss: 0.4022 - val_acc: 0.8100\n",
      "\n",
      "Epoch 00004: val_acc improved from 0.78000 to 0.81000, saving model to best_val_acc_initial_model.h5\n",
      "Epoch 5/20\n",
      "13/13 [==============================] - 14s 774ms/step - loss: 0.4092 - acc: 0.8123 - val_loss: 0.3804 - val_acc: 0.8200\n",
      "\n",
      "Epoch 00005: val_acc improved from 0.81000 to 0.82000, saving model to best_val_acc_initial_model.h5\n",
      "Epoch 6/20\n",
      "13/13 [==============================] - 13s 758ms/step - loss: 0.3844 - acc: 0.8385 - val_loss: 0.3507 - val_acc: 0.8500\n",
      "\n",
      "Epoch 00006: val_acc improved from 0.82000 to 0.85000, saving model to best_val_acc_initial_model.h5\n",
      "Epoch 7/20\n",
      "13/13 [==============================] - 13s 695ms/step - loss: 0.3521 - acc: 0.8631 - val_loss: 0.3335 - val_acc: 0.8650\n",
      "\n",
      "Epoch 00007: val_acc improved from 0.85000 to 0.86500, saving model to best_val_acc_initial_model.h5\n",
      "Epoch 8/20\n",
      "13/13 [==============================] - 13s 743ms/step - loss: 0.3322 - acc: 0.8892 - val_loss: 0.3108 - val_acc: 0.8750\n",
      "\n",
      "Epoch 00008: val_acc improved from 0.86500 to 0.87500, saving model to best_val_acc_initial_model.h5\n",
      "Epoch 9/20\n",
      "13/13 [==============================] - 14s 854ms/step - loss: 0.3158 - acc: 0.8846 - val_loss: 0.2939 - val_acc: 0.8750\n",
      "\n",
      "Epoch 00009: val_acc did not improve from 0.87500\n",
      "Epoch 10/20\n",
      "13/13 [==============================] - 13s 725ms/step - loss: 0.2998 - acc: 0.8969 - val_loss: 0.3005 - val_acc: 0.8600\n",
      "\n",
      "Epoch 00010: val_acc did not improve from 0.87500\n",
      "Epoch 11/20\n",
      "13/13 [==============================] - 13s 686ms/step - loss: 0.2820 - acc: 0.8969 - val_loss: 0.2778 - val_acc: 0.8650\n",
      "\n",
      "Epoch 00011: val_acc did not improve from 0.87500\n",
      "Epoch 12/20\n",
      "13/13 [==============================] - 13s 745ms/step - loss: 0.2661 - acc: 0.9123 - val_loss: 0.2492 - val_acc: 0.8900\n",
      "\n",
      "Epoch 00012: val_acc improved from 0.87500 to 0.89000, saving model to best_val_acc_initial_model.h5\n",
      "Epoch 13/20\n",
      "13/13 [==============================] - 13s 727ms/step - loss: 0.2510 - acc: 0.9277 - val_loss: 0.2378 - val_acc: 0.9000\n",
      "\n",
      "Epoch 00013: val_acc improved from 0.89000 to 0.90000, saving model to best_val_acc_initial_model.h5\n",
      "Epoch 14/20\n",
      "13/13 [==============================] - 18s 1s/step - loss: 0.2465 - acc: 0.9169 - val_loss: 0.2248 - val_acc: 0.9000\n",
      "\n",
      "Epoch 00014: val_acc did not improve from 0.90000\n",
      "Epoch 15/20\n",
      "13/13 [==============================] - 20s 1s/step - loss: 0.2281 - acc: 0.9215 - val_loss: 0.2181 - val_acc: 0.9000\n",
      "\n",
      "Epoch 00015: val_acc did not improve from 0.90000\n",
      "Epoch 16/20\n",
      "13/13 [==============================] - 20s 1s/step - loss: 0.2161 - acc: 0.9308 - val_loss: 0.2043 - val_acc: 0.9000\n",
      "\n",
      "Epoch 00016: val_acc did not improve from 0.90000\n",
      "Epoch 17/20\n",
      "13/13 [==============================] - 17s 1s/step - loss: 0.2077 - acc: 0.9431 - val_loss: 0.2046 - val_acc: 0.9100\n",
      "\n",
      "Epoch 00017: val_acc improved from 0.90000 to 0.91000, saving model to best_val_acc_initial_model.h5\n",
      "Epoch 18/20\n",
      "13/13 [==============================] - 16s 795ms/step - loss: 0.2013 - acc: 0.9415 - val_loss: 0.1898 - val_acc: 0.9250\n",
      "\n",
      "Epoch 00018: val_acc improved from 0.91000 to 0.92500, saving model to best_val_acc_initial_model.h5\n",
      "Epoch 19/20\n",
      "13/13 [==============================] - 15s 878ms/step - loss: 0.1940 - acc: 0.9431 - val_loss: 0.1895 - val_acc: 0.9200\n",
      "\n",
      "Epoch 00019: val_acc did not improve from 0.92500\n",
      "Epoch 20/20\n",
      "13/13 [==============================] - 16s 994ms/step - loss: 0.1878 - acc: 0.9400 - val_loss: 0.1932 - val_acc: 0.9250\n",
      "\n",
      "Epoch 00020: val_acc did not improve from 0.92500\n"
     ]
    }
   ],
   "source": [
    "# train the initial model\n",
    "file_name = \"best_val_acc_initial_model.h5\"\n",
    "model_hist = train_model(opt, loss_func, metrics_list, model, file_name)"
   ]
  },
  {
   "cell_type": "code",
   "execution_count": 8,
   "metadata": {},
   "outputs": [
    {
     "data": {
      "image/png": "[encoded data removed]",
      "text/plain": [
       "<Figure size 432x288 with 1 Axes>"
      ]
     },
     "metadata": {
      "needs_background": "light"
     },
     "output_type": "display_data"
    }
   ],
   "source": [
    "### plotting loss and accuracy functions for initial model\n",
    "loss_acc_func(model_hist, \"initial model\")"
   ]
  },
  {
   "cell_type": "code",
   "execution_count": 9,
   "metadata": {},
   "outputs": [],
   "source": [
    "# displaying the learned filers\n",
    "def display_filters(model):\n",
    "    for i in range(len(model.layers)):\n",
    "        layer = model.layers[i]\n",
    "        # checking for convolutional layers\n",
    "        if 'conv' not in layer.name:\n",
    "            continue\n",
    "        filters, bias = layer.get_weights()\n",
    "        print(\"Convolutional layer description: \", layer.name, \":\", filters.shape)\n",
    "        # getting min and max vals in the filters \n",
    "        f_min, f_max = filters.min(), filters.max()\n",
    "        # normalizing the filters\n",
    "        filters = (filters - f_min) / (f_max - f_min)\n",
    "        print(\"Number of filters in the convolutional layer :\", filters.shape[3])\n",
    "        filter_cnt=1\n",
    "\n",
    "        print(\"Learned features in this layer: (R G B) channels\")\n",
    "        #plotting all the filters\n",
    "        for i in range(filters.shape[3]):\n",
    "            #get the filters\n",
    "            filt=filters[:,:,:, i]\n",
    "            #plotting each of the channel, color image RGB channels\n",
    "            for j in range(filters.shape[0]):\n",
    "                ax= plt.subplot(filters.shape[3], filters.shape[0], filter_cnt  )\n",
    "                ax.set_xticks([])\n",
    "                ax.set_yticks([])\n",
    "                plt.imshow(filt[:,:, j])\n",
    "                filter_cnt+=1\n",
    "        plt.show()"
   ]
  },
  {
   "cell_type": "code",
   "execution_count": 10,
   "metadata": {},
   "outputs": [
    {
     "name": "stdout",
     "output_type": "stream",
     "text": [
      "Convolutional layer description:  conv2d : (3, 3, 3, 5)\n",
      "Number of filters in the convolutional layer : 5\n",
      "Learned features in this layer: (R G B) channels\n"
     ]
    },
    {
     "data": {
      "image/png": "[encoded data removed]",
      "text/plain": [
       "<Figure size 432x288 with 15 Axes>"
      ]
     },
     "metadata": {},
     "output_type": "display_data"
    },
    {
     "name": "stdout",
     "output_type": "stream",
     "text": [
      "Convolutional layer description:  conv2d_1 : (3, 3, 5, 10)\n",
      "Number of filters in the convolutional layer : 10\n",
      "Learned features in this layer: (R G B) channels\n"
     ]
    },
    {
     "data": {
      "image/png": "[encoded data removed]",
      "text/plain": [
       "<Figure size 432x288 with 30 Axes>"
      ]
     },
     "metadata": {},
     "output_type": "display_data"
    }
   ],
   "source": [
    "display_filters(model)"
   ]
  },
  {
   "cell_type": "markdown",
   "metadata": {},
   "source": [
    "# **Experiment one: Investigating how an increase in the number of filters in each layer affects the performance of the network**\n",
    "\n",
    "In this section, we investigate how increasing the number of filters in each convolutional neural layer and the number of neutrons in the hidden dense layer of our initial model will influence the performance of the network. "
   ]
  },
  {
   "cell_type": "markdown",
   "metadata": {
    "id": "MnANvgwN0GAw"
   },
   "source": [
    "## **Model two:**"
   ]
  },
  {
   "cell_type": "code",
   "execution_count": 11,
   "metadata": {},
   "outputs": [
    {
     "name": "stdout",
     "output_type": "stream",
     "text": [
      "Model: \"sequential_1\"\n",
      "_________________________________________________________________\n",
      "Layer (type)                 Output Shape              Param #   \n",
      "=================================================================\n",
      "conv2d_2 (Conv2D)            (None, 148, 148, 10)      280       \n",
      "_________________________________________________________________\n",
      "max_pooling2d_2 (MaxPooling2 (None, 74, 74, 10)        0         \n",
      "_________________________________________________________________\n",
      "conv2d_3 (Conv2D)            (None, 72, 72, 20)        1820      \n",
      "_________________________________________________________________\n",
      "max_pooling2d_3 (MaxPooling2 (None, 36, 36, 20)        0         \n",
      "_________________________________________________________________\n",
      "flatten_1 (Flatten)          (None, 25920)             0         \n",
      "_________________________________________________________________\n",
      "dense_2 (Dense)              (None, 20)                518420    \n",
      "_________________________________________________________________\n",
      "dense_3 (Dense)              (None, 1)                 21        \n",
      "=================================================================\n",
      "Total params: 520,541\n",
      "Trainable params: 520,541\n",
      "Non-trainable params: 0\n",
      "_________________________________________________________________\n"
     ]
    }
   ],
   "source": [
    "# Constructing the two model\n",
    "model_two = tf.keras.models.Sequential([\n",
    "    tf.keras.layers.Conv2D(10, (3,3), activation = 'relu', input_shape=(150,150,3)),\n",
    "    tf.keras.layers.MaxPooling2D((2,2)),\n",
    "    tf.keras.layers.Conv2D(20, (3,3), activation = 'relu'),\n",
    "    tf.keras.layers.MaxPooling2D(2,2),\n",
    "    tf.keras.layers.Flatten(),\n",
    "    tf.keras.layers.Dense(20, activation = 'relu'),\n",
    "    tf.keras.layers.Dense(1, activation = 'sigmoid')\n",
    "])\n",
    "\n",
    "# model two summary\n",
    "model_two.summary()"
   ]
  },
  {
   "cell_type": "code",
   "execution_count": 12,
   "metadata": {},
   "outputs": [
    {
     "name": "stdout",
     "output_type": "stream",
     "text": [
      "Epoch 1/20\n",
      "13/13 [==============================] - 17s 1s/step - loss: 0.5301 - acc: 0.7400 - val_loss: 0.3389 - val_acc: 0.9100\n",
      "\n",
      "Epoch 00001: val_acc improved from -inf to 0.91000, saving model to best_val_acc_model_two.h5\n",
      "Epoch 2/20\n",
      "13/13 [==============================] - 16s 1s/step - loss: 0.2596 - acc: 0.9108 - val_loss: 0.1971 - val_acc: 0.9400\n",
      "\n",
      "Epoch 00002: val_acc improved from 0.91000 to 0.94000, saving model to best_val_acc_model_two.h5\n",
      "Epoch 3/20\n",
      "13/13 [==============================] - 17s 1s/step - loss: 0.1645 - acc: 0.9462 - val_loss: 0.1591 - val_acc: 0.9200\n",
      "\n",
      "Epoch 00003: val_acc did not improve from 0.94000\n",
      "Epoch 4/20\n",
      "13/13 [==============================] - 17s 978ms/step - loss: 0.1468 - acc: 0.9477 - val_loss: 0.1414 - val_acc: 0.9350\n",
      "\n",
      "Epoch 00004: val_acc did not improve from 0.94000\n",
      "Epoch 5/20\n",
      "13/13 [==============================] - 15s 876ms/step - loss: 0.1284 - acc: 0.9446 - val_loss: 0.1270 - val_acc: 0.9650\n",
      "\n",
      "Epoch 00005: val_acc improved from 0.94000 to 0.96500, saving model to best_val_acc_model_two.h5\n",
      "Epoch 6/20\n",
      "13/13 [==============================] - 16s 929ms/step - loss: 0.1127 - acc: 0.9585 - val_loss: 0.1298 - val_acc: 0.9350\n",
      "\n",
      "Epoch 00006: val_acc did not improve from 0.96500\n",
      "Epoch 7/20\n",
      "13/13 [==============================] - 16s 945ms/step - loss: 0.1197 - acc: 0.9446 - val_loss: 0.1527 - val_acc: 0.9350\n",
      "\n",
      "Epoch 00007: val_acc did not improve from 0.96500\n",
      "Epoch 8/20\n",
      "13/13 [==============================] - 16s 994ms/step - loss: 0.1065 - acc: 0.9569 - val_loss: 0.1339 - val_acc: 0.9300\n",
      "\n",
      "Epoch 00008: val_acc did not improve from 0.96500\n",
      "Epoch 9/20\n",
      "13/13 [==============================] - 16s 989ms/step - loss: 0.0946 - acc: 0.9662 - val_loss: 0.1275 - val_acc: 0.9300\n",
      "\n",
      "Epoch 00009: val_acc did not improve from 0.96500\n",
      "Epoch 10/20\n",
      "13/13 [==============================] - 16s 896ms/step - loss: 0.0881 - acc: 0.9631 - val_loss: 0.1145 - val_acc: 0.9650\n",
      "\n",
      "Epoch 00010: val_acc did not improve from 0.96500\n",
      "Epoch 11/20\n",
      "13/13 [==============================] - 16s 938ms/step - loss: 0.0847 - acc: 0.9677 - val_loss: 0.1116 - val_acc: 0.9600\n",
      "\n",
      "Epoch 00011: val_acc did not improve from 0.96500\n",
      "Epoch 12/20\n",
      "13/13 [==============================] - 15s 892ms/step - loss: 0.0763 - acc: 0.9723 - val_loss: 0.1098 - val_acc: 0.9650\n",
      "\n",
      "Epoch 00012: val_acc did not improve from 0.96500\n",
      "Epoch 13/20\n",
      "13/13 [==============================] - 15s 894ms/step - loss: 0.0706 - acc: 0.9723 - val_loss: 0.1132 - val_acc: 0.9550\n",
      "\n",
      "Epoch 00013: val_acc did not improve from 0.96500\n",
      "Epoch 14/20\n",
      "13/13 [==============================] - 17s 1s/step - loss: 0.0680 - acc: 0.9800 - val_loss: 0.1184 - val_acc: 0.9500\n",
      "\n",
      "Epoch 00014: val_acc did not improve from 0.96500\n",
      "Epoch 15/20\n",
      "13/13 [==============================] - 17s 977ms/step - loss: 0.0637 - acc: 0.9800 - val_loss: 0.1053 - val_acc: 0.9700\n",
      "\n",
      "Epoch 00015: val_acc improved from 0.96500 to 0.97000, saving model to best_val_acc_model_two.h5\n",
      "Epoch 16/20\n",
      "13/13 [==============================] - 16s 967ms/step - loss: 0.0644 - acc: 0.9815 - val_loss: 0.1173 - val_acc: 0.9550\n",
      "\n",
      "Epoch 00016: val_acc did not improve from 0.97000\n",
      "Epoch 17/20\n",
      "13/13 [==============================] - 16s 1s/step - loss: 0.0565 - acc: 0.9831 - val_loss: 0.1040 - val_acc: 0.9650\n",
      "\n",
      "Epoch 00017: val_acc did not improve from 0.97000\n",
      "Epoch 18/20\n",
      "13/13 [==============================] - 15s 939ms/step - loss: 0.0526 - acc: 0.9892 - val_loss: 0.1230 - val_acc: 0.9550\n",
      "\n",
      "Epoch 00018: val_acc did not improve from 0.97000\n",
      "Epoch 19/20\n",
      "13/13 [==============================] - 17s 924ms/step - loss: 0.0547 - acc: 0.9800 - val_loss: 0.1060 - val_acc: 0.9600\n",
      "\n",
      "Epoch 00019: val_acc did not improve from 0.97000\n",
      "Epoch 20/20\n",
      "13/13 [==============================] - 15s 859ms/step - loss: 0.0477 - acc: 0.9892 - val_loss: 0.1050 - val_acc: 0.9600\n",
      "\n",
      "Epoch 00020: val_acc did not improve from 0.97000\n"
     ]
    }
   ],
   "source": [
    "# train the  model two\n",
    "file_name = \"best_val_acc_model_two.h5\"\n",
    "model_hist = train_model(opt, loss_func, metrics_list, model_two, file_name)"
   ]
  },
  {
   "cell_type": "code",
   "execution_count": 13,
   "metadata": {},
   "outputs": [
    {
     "data": {
      "image/png": "[encoded data removed]",
      "text/plain": [
       "<Figure size 432x288 with 1 Axes>"
      ]
     },
     "metadata": {
      "needs_background": "light"
     },
     "output_type": "display_data"
    }
   ],
   "source": [
    "### plotting loss and accuracy functions for model two\n",
    "loss_acc_func(model_hist, \"model two\")"
   ]
  },
  {
   "cell_type": "code",
   "execution_count": 14,
   "metadata": {},
   "outputs": [
    {
     "name": "stdout",
     "output_type": "stream",
     "text": [
      "Convolutional layer description:  conv2d_2 : (3, 3, 3, 10)\n",
      "Number of filters in the convolutional layer : 10\n",
      "Learned features in this layer: (R G B) channels\n"
     ]
    },
    {
     "data": {
      "image/png": "[encoded data removed]",
      "text/plain": [
       "<Figure size 432x288 with 30 Axes>"
      ]
     },
     "metadata": {},
     "output_type": "display_data"
    },
    {
     "name": "stdout",
     "output_type": "stream",
     "text": [
      "Convolutional layer description:  conv2d_3 : (3, 3, 10, 20)\n",
      "Number of filters in the convolutional layer : 20\n",
      "Learned features in this layer: (R G B) channels\n"
     ]
    },
    {
     "data": {
      "image/png": "[encoded data removed]",
      "text/plain": [
       "<Figure size 432x288 with 60 Axes>"
      ]
     },
     "metadata": {},
     "output_type": "display_data"
    }
   ],
   "source": [
    "# displaying filters learned by model two\n",
    "display_filters(model_two)"
   ]
  },
  {
   "cell_type": "markdown",
   "metadata": {},
   "source": [
    "## **Model three:**"
   ]
  },
  {
   "cell_type": "code",
   "execution_count": 15,
   "metadata": {},
   "outputs": [
    {
     "name": "stdout",
     "output_type": "stream",
     "text": [
      "Model: \"sequential_2\"\n",
      "_________________________________________________________________\n",
      "Layer (type)                 Output Shape              Param #   \n",
      "=================================================================\n",
      "conv2d_4 (Conv2D)            (None, 148, 148, 20)      560       \n",
      "_________________________________________________________________\n",
      "max_pooling2d_4 (MaxPooling2 (None, 74, 74, 20)        0         \n",
      "_________________________________________________________________\n",
      "conv2d_5 (Conv2D)            (None, 72, 72, 40)        7240      \n",
      "_________________________________________________________________\n",
      "max_pooling2d_5 (MaxPooling2 (None, 36, 36, 40)        0         \n",
      "_________________________________________________________________\n",
      "flatten_2 (Flatten)          (None, 51840)             0         \n",
      "_________________________________________________________________\n",
      "dense_4 (Dense)              (None, 40)                2073640   \n",
      "_________________________________________________________________\n",
      "dense_5 (Dense)              (None, 1)                 41        \n",
      "=================================================================\n",
      "Total params: 2,081,481\n",
      "Trainable params: 2,081,481\n",
      "Non-trainable params: 0\n",
      "_________________________________________________________________\n"
     ]
    }
   ],
   "source": [
    "# Constructing  model three\n",
    "model_three = tf.keras.models.Sequential([\n",
    "    tf.keras.layers.Conv2D(20, (3,3), activation = 'relu', input_shape=(150,150,3)),\n",
    "    tf.keras.layers.MaxPooling2D((2,2)),\n",
    "    tf.keras.layers.Conv2D(40, (3,3), activation = 'relu'),\n",
    "    tf.keras.layers.MaxPooling2D(2,2),\n",
    "    tf.keras.layers.Flatten(),\n",
    "    tf.keras.layers.Dense(40, activation = 'relu'),\n",
    "    tf.keras.layers.Dense(1, activation = 'sigmoid')\n",
    "])\n",
    "\n",
    "# model two summary\n",
    "model_three.summary()"
   ]
  },
  {
   "cell_type": "code",
   "execution_count": 16,
   "metadata": {},
   "outputs": [
    {
     "name": "stdout",
     "output_type": "stream",
     "text": [
      "Epoch 1/20\n",
      "13/13 [==============================] - 20s 1s/step - loss: 0.5681 - acc: 0.7877 - val_loss: 0.3172 - val_acc: 0.9250\n",
      "\n",
      "Epoch 00001: val_acc improved from -inf to 0.92500, saving model to best_val_acc_model_three.h5\n",
      "Epoch 2/20\n",
      "13/13 [==============================] - 20s 1s/step - loss: 0.2559 - acc: 0.9000 - val_loss: 0.1617 - val_acc: 0.9400\n",
      "\n",
      "Epoch 00002: val_acc improved from 0.92500 to 0.94000, saving model to best_val_acc_model_three.h5\n",
      "Epoch 3/20\n",
      "13/13 [==============================] - 20s 1s/step - loss: 0.1566 - acc: 0.9385 - val_loss: 0.1220 - val_acc: 0.9450\n",
      "\n",
      "Epoch 00003: val_acc improved from 0.94000 to 0.94500, saving model to best_val_acc_model_three.h5\n",
      "Epoch 4/20\n",
      "13/13 [==============================] - 20s 1s/step - loss: 0.1286 - acc: 0.9538 - val_loss: 0.1177 - val_acc: 0.9500\n",
      "\n",
      "Epoch 00004: val_acc improved from 0.94500 to 0.95000, saving model to best_val_acc_model_three.h5\n",
      "Epoch 5/20\n",
      "13/13 [==============================] - 22s 1s/step - loss: 0.1070 - acc: 0.9615 - val_loss: 0.1083 - val_acc: 0.9700\n",
      "\n",
      "Epoch 00005: val_acc improved from 0.95000 to 0.97000, saving model to best_val_acc_model_three.h5\n",
      "Epoch 6/20\n",
      "13/13 [==============================] - 24s 2s/step - loss: 0.1019 - acc: 0.9600 - val_loss: 0.0932 - val_acc: 0.9650\n",
      "\n",
      "Epoch 00006: val_acc did not improve from 0.97000\n",
      "Epoch 7/20\n",
      "13/13 [==============================] - 21s 1s/step - loss: 0.0806 - acc: 0.9723 - val_loss: 0.0921 - val_acc: 0.9600\n",
      "\n",
      "Epoch 00007: val_acc did not improve from 0.97000\n",
      "Epoch 8/20\n",
      "13/13 [==============================] - 20s 1s/step - loss: 0.0779 - acc: 0.9754 - val_loss: 0.1420 - val_acc: 0.9250\n",
      "\n",
      "Epoch 00008: val_acc did not improve from 0.97000\n",
      "Epoch 9/20\n",
      "13/13 [==============================] - 20s 1s/step - loss: 0.0821 - acc: 0.9677 - val_loss: 0.1014 - val_acc: 0.9500\n",
      "\n",
      "Epoch 00009: val_acc did not improve from 0.97000\n",
      "Epoch 10/20\n",
      "13/13 [==============================] - 21s 1s/step - loss: 0.0644 - acc: 0.9769 - val_loss: 0.1058 - val_acc: 0.9600\n",
      "\n",
      "Epoch 00010: val_acc did not improve from 0.97000\n",
      "Epoch 11/20\n",
      "13/13 [==============================] - 20s 1s/step - loss: 0.0529 - acc: 0.9862 - val_loss: 0.0920 - val_acc: 0.9700\n",
      "\n",
      "Epoch 00011: val_acc did not improve from 0.97000\n",
      "Epoch 12/20\n",
      "13/13 [==============================] - 21s 1s/step - loss: 0.0468 - acc: 0.9892 - val_loss: 0.0965 - val_acc: 0.9700\n",
      "\n",
      "Epoch 00012: val_acc did not improve from 0.97000\n",
      "Epoch 13/20\n",
      "13/13 [==============================] - 20s 1s/step - loss: 0.0418 - acc: 0.9923 - val_loss: 0.0943 - val_acc: 0.9700\n",
      "\n",
      "Epoch 00013: val_acc did not improve from 0.97000\n",
      "Epoch 14/20\n",
      "13/13 [==============================] - 20s 1s/step - loss: 0.0390 - acc: 0.9877 - val_loss: 0.1025 - val_acc: 0.9600\n",
      "\n",
      "Epoch 00014: val_acc did not improve from 0.97000\n",
      "Epoch 15/20\n",
      "13/13 [==============================] - 20s 1s/step - loss: 0.0363 - acc: 0.9938 - val_loss: 0.0913 - val_acc: 0.9700\n",
      "\n",
      "Epoch 00015: val_acc did not improve from 0.97000\n",
      "Epoch 16/20\n",
      "13/13 [==============================] - 21s 1s/step - loss: 0.0322 - acc: 0.9954 - val_loss: 0.0852 - val_acc: 0.9750\n",
      "\n",
      "Epoch 00016: val_acc improved from 0.97000 to 0.97500, saving model to best_val_acc_model_three.h5\n",
      "Epoch 17/20\n",
      "13/13 [==============================] - 21s 1s/step - loss: 0.0309 - acc: 0.9938 - val_loss: 0.0860 - val_acc: 0.9750\n",
      "\n",
      "Epoch 00017: val_acc did not improve from 0.97500\n",
      "Epoch 18/20\n",
      "13/13 [==============================] - 20s 1s/step - loss: 0.0273 - acc: 0.9954 - val_loss: 0.0945 - val_acc: 0.9650\n",
      "\n",
      "Epoch 00018: val_acc did not improve from 0.97500\n",
      "Epoch 19/20\n",
      "13/13 [==============================] - 20s 1s/step - loss: 0.0248 - acc: 0.9969 - val_loss: 0.0978 - val_acc: 0.9650\n",
      "\n",
      "Epoch 00019: val_acc did not improve from 0.97500\n",
      "Epoch 20/20\n",
      "13/13 [==============================] - 20s 1s/step - loss: 0.0223 - acc: 0.9969 - val_loss: 0.0895 - val_acc: 0.9700\n",
      "\n",
      "Epoch 00020: val_acc did not improve from 0.97500\n"
     ]
    }
   ],
   "source": [
    "# train the  model three\n",
    "file_name = \"best_val_acc_model_three.h5\"\n",
    "model_hist = train_model(opt, loss_func, metrics_list, model_three, file_name)"
   ]
  },
  {
   "cell_type": "code",
   "execution_count": 17,
   "metadata": {},
   "outputs": [
    {
     "data": {
      "image/png": "[encoded data removed]",
      "text/plain": [
       "<Figure size 432x288 with 1 Axes>"
      ]
     },
     "metadata": {
      "needs_background": "light"
     },
     "output_type": "display_data"
    }
   ],
   "source": [
    "## plotting loss and accuracy functions for model three\n",
    "loss_acc_func(model_hist, \"model_three\")"
   ]
  },
  {
   "cell_type": "code",
   "execution_count": 18,
   "metadata": {},
   "outputs": [
    {
     "name": "stdout",
     "output_type": "stream",
     "text": [
      "Convolutional layer description:  conv2d_4 : (3, 3, 3, 20)\n",
      "Number of filters in the convolutional layer : 20\n",
      "Learned features in this layer: (R G B) channels\n"
     ]
    },
    {
     "data": {
      "image/png": "[encoded data removed]",
      "text/plain": [
       "<Figure size 432x288 with 60 Axes>"
      ]
     },
     "metadata": {},
     "output_type": "display_data"
    },
    {
     "name": "stdout",
     "output_type": "stream",
     "text": [
      "Convolutional layer description:  conv2d_5 : (3, 3, 20, 40)\n",
      "Number of filters in the convolutional layer : 40\n",
      "Learned features in this layer: (R G B) channels\n"
     ]
    },
    {
     "data": {
      "image/png": "[encoded data removed]",
      "text/plain": [
       "<Figure size 432x288 with 120 Axes>"
      ]
     },
     "metadata": {},
     "output_type": "display_data"
    }
   ],
   "source": [
    "# displaying filters learned by model three\n",
    "display_filters(model_three)"
   ]
  },
  {
   "cell_type": "markdown",
   "metadata": {},
   "source": [
    "# **Experiment two: Investigating how the depth of the network influences performance:**\n",
    "In this section, we investigate the influence of the depth of our network on the performance of the network.\n",
    "We will use several models to investigate this. We will increase the number of convolutional layers in our initial model."
   ]
  },
  {
   "cell_type": "markdown",
   "metadata": {},
   "source": [
    "## **Model four:**"
   ]
  },
  {
   "cell_type": "code",
   "execution_count": 19,
   "metadata": {},
   "outputs": [
    {
     "name": "stdout",
     "output_type": "stream",
     "text": [
      "Model: \"sequential_3\"\n",
      "_________________________________________________________________\n",
      "Layer (type)                 Output Shape              Param #   \n",
      "=================================================================\n",
      "conv2d_6 (Conv2D)            (None, 148, 148, 5)       140       \n",
      "_________________________________________________________________\n",
      "max_pooling2d_6 (MaxPooling2 (None, 74, 74, 5)         0         \n",
      "_________________________________________________________________\n",
      "conv2d_7 (Conv2D)            (None, 72, 72, 10)        460       \n",
      "_________________________________________________________________\n",
      "max_pooling2d_7 (MaxPooling2 (None, 36, 36, 10)        0         \n",
      "_________________________________________________________________\n",
      "conv2d_8 (Conv2D)            (None, 34, 34, 20)        1820      \n",
      "_________________________________________________________________\n",
      "max_pooling2d_8 (MaxPooling2 (None, 17, 17, 20)        0         \n",
      "_________________________________________________________________\n",
      "flatten_3 (Flatten)          (None, 5780)              0         \n",
      "_________________________________________________________________\n",
      "dense_6 (Dense)              (None, 20)                115620    \n",
      "_________________________________________________________________\n",
      "dense_7 (Dense)              (None, 1)                 21        \n",
      "=================================================================\n",
      "Total params: 118,061\n",
      "Trainable params: 118,061\n",
      "Non-trainable params: 0\n",
      "_________________________________________________________________\n"
     ]
    }
   ],
   "source": [
    "# Constructing the fourth model\n",
    "model_four = tf.keras.models.Sequential([\n",
    "    tf.keras.layers.Conv2D(5, (3,3), activation = 'relu', input_shape=(150,150,3)),\n",
    "    tf.keras.layers.MaxPooling2D((2,2)),\n",
    "    tf.keras.layers.Conv2D(10, (3,3), activation = 'relu'),\n",
    "    tf.keras.layers.MaxPooling2D(2,2),\n",
    "    tf.keras.layers.Conv2D(20, (3,3), activation = 'relu'),\n",
    "    tf.keras.layers.MaxPooling2D(2,2),\n",
    "    tf.keras.layers.Flatten(),\n",
    "    tf.keras.layers.Dense(20, activation = 'relu'),\n",
    "    tf.keras.layers.Dense(1, activation = 'sigmoid')\n",
    "])\n",
    "# model four summary\n",
    "model_four.summary()"
   ]
  },
  {
   "cell_type": "code",
   "execution_count": 20,
   "metadata": {},
   "outputs": [
    {
     "name": "stdout",
     "output_type": "stream",
     "text": [
      "Epoch 1/20\n",
      "13/13 [==============================] - 15s 887ms/step - loss: 0.5542 - acc: 0.7431 - val_loss: 0.4195 - val_acc: 0.7950\n",
      "\n",
      "Epoch 00001: val_acc improved from -inf to 0.79500, saving model to best_val_acc_model_four.h5\n",
      "Epoch 2/20\n",
      "13/13 [==============================] - 14s 822ms/step - loss: 0.3572 - acc: 0.8400 - val_loss: 0.3161 - val_acc: 0.8750\n",
      "\n",
      "Epoch 00002: val_acc improved from 0.79500 to 0.87500, saving model to best_val_acc_model_four.h5\n",
      "Epoch 3/20\n",
      "13/13 [==============================] - 15s 876ms/step - loss: 0.2600 - acc: 0.9077 - val_loss: 0.2084 - val_acc: 0.9100\n",
      "\n",
      "Epoch 00003: val_acc improved from 0.87500 to 0.91000, saving model to best_val_acc_model_four.h5\n",
      "Epoch 4/20\n",
      "13/13 [==============================] - 13s 839ms/step - loss: 0.1979 - acc: 0.9200 - val_loss: 0.1768 - val_acc: 0.9250\n",
      "\n",
      "Epoch 00004: val_acc improved from 0.91000 to 0.92500, saving model to best_val_acc_model_four.h5\n",
      "Epoch 5/20\n",
      "13/13 [==============================] - 14s 813ms/step - loss: 0.1780 - acc: 0.9338 - val_loss: 0.1653 - val_acc: 0.9150\n",
      "\n",
      "Epoch 00005: val_acc did not improve from 0.92500\n",
      "Epoch 6/20\n",
      "13/13 [==============================] - 14s 816ms/step - loss: 0.1668 - acc: 0.9385 - val_loss: 0.1561 - val_acc: 0.9350\n",
      "\n",
      "Epoch 00006: val_acc improved from 0.92500 to 0.93500, saving model to best_val_acc_model_four.h5\n",
      "Epoch 7/20\n",
      "13/13 [==============================] - 14s 811ms/step - loss: 0.1541 - acc: 0.9385 - val_loss: 0.1766 - val_acc: 0.9200\n",
      "\n",
      "Epoch 00007: val_acc did not improve from 0.93500\n",
      "Epoch 8/20\n",
      "13/13 [==============================] - 13s 758ms/step - loss: 0.1455 - acc: 0.9415 - val_loss: 0.1474 - val_acc: 0.9250\n",
      "\n",
      "Epoch 00008: val_acc did not improve from 0.93500\n",
      "Epoch 9/20\n",
      "13/13 [==============================] - 15s 820ms/step - loss: 0.1363 - acc: 0.9462 - val_loss: 0.1358 - val_acc: 0.9400\n",
      "\n",
      "Epoch 00009: val_acc improved from 0.93500 to 0.94000, saving model to best_val_acc_model_four.h5\n",
      "Epoch 10/20\n",
      "13/13 [==============================] - 14s 858ms/step - loss: 0.1335 - acc: 0.9385 - val_loss: 0.1343 - val_acc: 0.9400\n",
      "\n",
      "Epoch 00010: val_acc did not improve from 0.94000\n",
      "Epoch 11/20\n",
      "13/13 [==============================] - 13s 794ms/step - loss: 0.1225 - acc: 0.9538 - val_loss: 0.1311 - val_acc: 0.9400\n",
      "\n",
      "Epoch 00011: val_acc did not improve from 0.94000\n",
      "Epoch 12/20\n",
      "13/13 [==============================] - 14s 810ms/step - loss: 0.1122 - acc: 0.9569 - val_loss: 0.1242 - val_acc: 0.9450\n",
      "\n",
      "Epoch 00012: val_acc improved from 0.94000 to 0.94500, saving model to best_val_acc_model_four.h5\n",
      "Epoch 13/20\n",
      "13/13 [==============================] - 15s 801ms/step - loss: 0.1113 - acc: 0.9585 - val_loss: 0.1368 - val_acc: 0.9350\n",
      "\n",
      "Epoch 00013: val_acc did not improve from 0.94500\n",
      "Epoch 14/20\n",
      "13/13 [==============================] - 14s 836ms/step - loss: 0.1144 - acc: 0.9585 - val_loss: 0.1204 - val_acc: 0.9500\n",
      "\n",
      "Epoch 00014: val_acc improved from 0.94500 to 0.95000, saving model to best_val_acc_model_four.h5\n",
      "Epoch 15/20\n",
      "13/13 [==============================] - 15s 829ms/step - loss: 0.0977 - acc: 0.9677 - val_loss: 0.1240 - val_acc: 0.9400\n",
      "\n",
      "Epoch 00015: val_acc did not improve from 0.95000\n",
      "Epoch 16/20\n",
      "13/13 [==============================] - 15s 827ms/step - loss: 0.0999 - acc: 0.9692 - val_loss: 0.1247 - val_acc: 0.9400\n",
      "\n",
      "Epoch 00016: val_acc did not improve from 0.95000\n",
      "Epoch 17/20\n",
      "13/13 [==============================] - 15s 776ms/step - loss: 0.0957 - acc: 0.9631 - val_loss: 0.1146 - val_acc: 0.9450\n",
      "\n",
      "Epoch 00017: val_acc did not improve from 0.95000\n",
      "Epoch 18/20\n",
      "13/13 [==============================] - 15s 896ms/step - loss: 0.0897 - acc: 0.9662 - val_loss: 0.1117 - val_acc: 0.9500\n",
      "\n",
      "Epoch 00018: val_acc did not improve from 0.95000\n",
      "Epoch 19/20\n",
      "13/13 [==============================] - 14s 809ms/step - loss: 0.0825 - acc: 0.9754 - val_loss: 0.1062 - val_acc: 0.9500\n",
      "\n",
      "Epoch 00019: val_acc did not improve from 0.95000\n",
      "Epoch 20/20\n",
      "13/13 [==============================] - 14s 822ms/step - loss: 0.0779 - acc: 0.9815 - val_loss: 0.1129 - val_acc: 0.9550\n",
      "\n",
      "Epoch 00020: val_acc improved from 0.95000 to 0.95500, saving model to best_val_acc_model_four.h5\n"
     ]
    }
   ],
   "source": [
    "# train the  model four\n",
    "file_name = \"best_val_acc_model_four.h5\"\n",
    "model_hist = train_model(opt, loss_func, metrics_list, model_four, file_name)"
   ]
  },
  {
   "cell_type": "code",
   "execution_count": 21,
   "metadata": {},
   "outputs": [
    {
     "data": {
      "image/png": "[encoded data removed]",
      "text/plain": [
       "<Figure size 432x288 with 1 Axes>"
      ]
     },
     "metadata": {
      "needs_background": "light"
     },
     "output_type": "display_data"
    }
   ],
   "source": [
    "## plotting loss and accuracy functions for model four\n",
    "loss_acc_func(model_hist, \"model four\")"
   ]
  },
  {
   "cell_type": "code",
   "execution_count": 22,
   "metadata": {},
   "outputs": [
    {
     "name": "stdout",
     "output_type": "stream",
     "text": [
      "Convolutional layer description:  conv2d_6 : (3, 3, 3, 5)\n",
      "Number of filters in the convolutional layer : 5\n",
      "Learned features in this layer: (R G B) channels\n"
     ]
    },
    {
     "data": {
      "image/png": "[encoded data removed]",
      "text/plain": [
       "<Figure size 432x288 with 15 Axes>"
      ]
     },
     "metadata": {},
     "output_type": "display_data"
    },
    {
     "name": "stdout",
     "output_type": "stream",
     "text": [
      "Convolutional layer description:  conv2d_7 : (3, 3, 5, 10)\n",
      "Number of filters in the convolutional layer : 10\n",
      "Learned features in this layer: (R G B) channels\n"
     ]
    },
    {
     "data": {
      "image/png": "[encoded data removed]",
      "text/plain": [
       "<Figure size 432x288 with 30 Axes>"
      ]
     },
     "metadata": {},
     "output_type": "display_data"
    },
    {
     "name": "stdout",
     "output_type": "stream",
     "text": [
      "Convolutional layer description:  conv2d_8 : (3, 3, 10, 20)\n",
      "Number of filters in the convolutional layer : 20\n",
      "Learned features in this layer: (R G B) channels\n"
     ]
    },
    {
     "data": {
      "image/png": "[encoded data removed]",
      "text/plain": [
       "<Figure size 432x288 with 60 Axes>"
      ]
     },
     "metadata": {},
     "output_type": "display_data"
    }
   ],
   "source": [
    "# displaying filters learned by model four\n",
    "display_filters(model_four)"
   ]
  },
  {
   "cell_type": "markdown",
   "metadata": {},
   "source": [
    "## **Model five:**"
   ]
  },
  {
   "cell_type": "code",
   "execution_count": 23,
   "metadata": {},
   "outputs": [
    {
     "name": "stdout",
     "output_type": "stream",
     "text": [
      "Model: \"sequential_4\"\n",
      "_________________________________________________________________\n",
      "Layer (type)                 Output Shape              Param #   \n",
      "=================================================================\n",
      "conv2d_9 (Conv2D)            (None, 148, 148, 5)       140       \n",
      "_________________________________________________________________\n",
      "max_pooling2d_9 (MaxPooling2 (None, 74, 74, 5)         0         \n",
      "_________________________________________________________________\n",
      "conv2d_10 (Conv2D)           (None, 72, 72, 10)        460       \n",
      "_________________________________________________________________\n",
      "max_pooling2d_10 (MaxPooling (None, 36, 36, 10)        0         \n",
      "_________________________________________________________________\n",
      "conv2d_11 (Conv2D)           (None, 34, 34, 20)        1820      \n",
      "_________________________________________________________________\n",
      "max_pooling2d_11 (MaxPooling (None, 17, 17, 20)        0         \n",
      "_________________________________________________________________\n",
      "conv2d_12 (Conv2D)           (None, 15, 15, 40)        7240      \n",
      "_________________________________________________________________\n",
      "max_pooling2d_12 (MaxPooling (None, 7, 7, 40)          0         \n",
      "_________________________________________________________________\n",
      "flatten_4 (Flatten)          (None, 1960)              0         \n",
      "_________________________________________________________________\n",
      "dense_8 (Dense)              (None, 40)                78440     \n",
      "_________________________________________________________________\n",
      "dense_9 (Dense)              (None, 1)                 41        \n",
      "=================================================================\n",
      "Total params: 88,141\n",
      "Trainable params: 88,141\n",
      "Non-trainable params: 0\n",
      "_________________________________________________________________\n"
     ]
    }
   ],
   "source": [
    "# Constructing the five model\n",
    "model_five = tf.keras.models.Sequential([\n",
    "    tf.keras.layers.Conv2D(5, (3,3), activation = 'relu', input_shape=(150,150,3)),\n",
    "    tf.keras.layers.MaxPooling2D((2,2)),\n",
    "    tf.keras.layers.Conv2D(10, (3,3), activation = 'relu'),\n",
    "    tf.keras.layers.MaxPooling2D(2,2),\n",
    "    tf.keras.layers.Conv2D(20, (3,3), activation = 'relu'),\n",
    "    tf.keras.layers.MaxPooling2D(2,2),\n",
    "    tf.keras.layers.Conv2D(40, (3,3), activation = 'relu'),\n",
    "    tf.keras.layers.MaxPooling2D(2,2),\n",
    "    tf.keras.layers.Flatten(),\n",
    "    tf.keras.layers.Dense(40, activation = 'relu'),\n",
    "    tf.keras.layers.Dense(1, activation = 'sigmoid')\n",
    "])\n",
    "# model four summary\n",
    "model_five.summary()"
   ]
  },
  {
   "cell_type": "code",
   "execution_count": 24,
   "metadata": {},
   "outputs": [
    {
     "name": "stdout",
     "output_type": "stream",
     "text": [
      "Epoch 1/20\n",
      "13/13 [==============================] - 15s 823ms/step - loss: 0.6604 - acc: 0.6538 - val_loss: 0.5697 - val_acc: 0.7550\n",
      "\n",
      "Epoch 00001: val_acc improved from -inf to 0.75500, saving model to best_val_acc_model_five.h5\n",
      "Epoch 2/20\n",
      "13/13 [==============================] - 14s 799ms/step - loss: 0.5060 - acc: 0.7708 - val_loss: 0.3319 - val_acc: 0.9150\n",
      "\n",
      "Epoch 00002: val_acc improved from 0.75500 to 0.91500, saving model to best_val_acc_model_five.h5\n",
      "Epoch 3/20\n",
      "13/13 [==============================] - 14s 805ms/step - loss: 0.3184 - acc: 0.8708 - val_loss: 0.2929 - val_acc: 0.8750\n",
      "\n",
      "Epoch 00003: val_acc did not improve from 0.91500\n",
      "Epoch 4/20\n",
      "13/13 [==============================] - 15s 814ms/step - loss: 0.2913 - acc: 0.8862 - val_loss: 0.2512 - val_acc: 0.8950\n",
      "\n",
      "Epoch 00004: val_acc did not improve from 0.91500\n",
      "Epoch 5/20\n",
      "13/13 [==============================] - 14s 814ms/step - loss: 0.2580 - acc: 0.8954 - val_loss: 0.1912 - val_acc: 0.9350\n",
      "\n",
      "Epoch 00005: val_acc improved from 0.91500 to 0.93500, saving model to best_val_acc_model_five.h5\n",
      "Epoch 6/20\n",
      "13/13 [==============================] - 14s 854ms/step - loss: 0.2449 - acc: 0.9000 - val_loss: 0.1738 - val_acc: 0.9300\n",
      "\n",
      "Epoch 00006: val_acc did not improve from 0.93500\n",
      "Epoch 7/20\n",
      "13/13 [==============================] - 15s 888ms/step - loss: 0.2356 - acc: 0.9108 - val_loss: 0.1801 - val_acc: 0.9400\n",
      "\n",
      "Epoch 00007: val_acc improved from 0.93500 to 0.94000, saving model to best_val_acc_model_five.h5\n",
      "Epoch 8/20\n",
      "13/13 [==============================] - 14s 779ms/step - loss: 0.2289 - acc: 0.9031 - val_loss: 0.1559 - val_acc: 0.9300\n",
      "\n",
      "Epoch 00008: val_acc did not improve from 0.94000\n",
      "Epoch 9/20\n",
      "13/13 [==============================] - 15s 896ms/step - loss: 0.2201 - acc: 0.9154 - val_loss: 0.1670 - val_acc: 0.9450\n",
      "\n",
      "Epoch 00009: val_acc improved from 0.94000 to 0.94500, saving model to best_val_acc_model_five.h5\n",
      "Epoch 10/20\n",
      "13/13 [==============================] - 14s 798ms/step - loss: 0.2066 - acc: 0.9200 - val_loss: 0.1370 - val_acc: 0.9450\n",
      "\n",
      "Epoch 00010: val_acc did not improve from 0.94500\n",
      "Epoch 11/20\n",
      "13/13 [==============================] - 15s 948ms/step - loss: 0.1985 - acc: 0.9277 - val_loss: 0.1378 - val_acc: 0.9400\n",
      "\n",
      "Epoch 00011: val_acc did not improve from 0.94500\n",
      "Epoch 12/20\n",
      "13/13 [==============================] - 14s 844ms/step - loss: 0.1845 - acc: 0.9292 - val_loss: 0.1253 - val_acc: 0.9400\n",
      "\n",
      "Epoch 00012: val_acc did not improve from 0.94500\n",
      "Epoch 13/20\n",
      "13/13 [==============================] - 14s 814ms/step - loss: 0.1776 - acc: 0.9354 - val_loss: 0.1230 - val_acc: 0.9400\n",
      "\n",
      "Epoch 00013: val_acc did not improve from 0.94500\n",
      "Epoch 14/20\n",
      "13/13 [==============================] - 14s 869ms/step - loss: 0.1726 - acc: 0.9338 - val_loss: 0.1328 - val_acc: 0.9450\n",
      "\n",
      "Epoch 00014: val_acc did not improve from 0.94500\n",
      "Epoch 15/20\n",
      "13/13 [==============================] - 14s 798ms/step - loss: 0.1626 - acc: 0.9354 - val_loss: 0.1053 - val_acc: 0.9650\n",
      "\n",
      "Epoch 00015: val_acc improved from 0.94500 to 0.96500, saving model to best_val_acc_model_five.h5\n",
      "Epoch 16/20\n",
      "13/13 [==============================] - 14s 848ms/step - loss: 0.1599 - acc: 0.9400 - val_loss: 0.1023 - val_acc: 0.9650\n",
      "\n",
      "Epoch 00016: val_acc did not improve from 0.96500\n",
      "Epoch 17/20\n",
      "13/13 [==============================] - 14s 783ms/step - loss: 0.1559 - acc: 0.9431 - val_loss: 0.1035 - val_acc: 0.9600\n",
      "\n",
      "Epoch 00017: val_acc did not improve from 0.96500\n",
      "Epoch 18/20\n",
      "13/13 [==============================] - 14s 793ms/step - loss: 0.1569 - acc: 0.9431 - val_loss: 0.0960 - val_acc: 0.9600\n",
      "\n",
      "Epoch 00018: val_acc did not improve from 0.96500\n",
      "Epoch 19/20\n",
      "13/13 [==============================] - 14s 815ms/step - loss: 0.1451 - acc: 0.9538 - val_loss: 0.0984 - val_acc: 0.9650\n",
      "\n",
      "Epoch 00019: val_acc did not improve from 0.96500\n",
      "Epoch 20/20\n",
      "13/13 [==============================] - 14s 786ms/step - loss: 0.1385 - acc: 0.9523 - val_loss: 0.0921 - val_acc: 0.9600\n",
      "\n",
      "Epoch 00020: val_acc did not improve from 0.96500\n"
     ]
    }
   ],
   "source": [
    "# train the  model five\n",
    "file_name = \"best_val_acc_model_five.h5\"\n",
    "model_hist = train_model(opt, loss_func, metrics_list, model_five, file_name)"
   ]
  },
  {
   "cell_type": "code",
   "execution_count": 25,
   "metadata": {},
   "outputs": [
    {
     "data": {
      "image/png": "[encoded data removed]",
      "text/plain": [
       "<Figure size 432x288 with 1 Axes>"
      ]
     },
     "metadata": {
      "needs_background": "light"
     },
     "output_type": "display_data"
    }
   ],
   "source": [
    "## plotting loss and accuracy functions for model five\n",
    "loss_acc_func(model_hist,\"model five\")"
   ]
  },
  {
   "cell_type": "code",
   "execution_count": 26,
   "metadata": {},
   "outputs": [
    {
     "name": "stdout",
     "output_type": "stream",
     "text": [
      "Convolutional layer description:  conv2d_9 : (3, 3, 3, 5)\n",
      "Number of filters in the convolutional layer : 5\n",
      "Learned features in this layer: (R G B) channels\n"
     ]
    },
    {
     "data": {
      "image/png": "[encoded data removed]",
      "text/plain": [
       "<Figure size 432x288 with 15 Axes>"
      ]
     },
     "metadata": {},
     "output_type": "display_data"
    },
    {
     "name": "stdout",
     "output_type": "stream",
     "text": [
      "Convolutional layer description:  conv2d_10 : (3, 3, 5, 10)\n",
      "Number of filters in the convolutional layer : 10\n",
      "Learned features in this layer: (R G B) channels\n"
     ]
    },
    {
     "data": {
      "image/png": "[encoded data removed]",
      "text/plain": [
       "<Figure size 432x288 with 30 Axes>"
      ]
     },
     "metadata": {},
     "output_type": "display_data"
    },
    {
     "name": "stdout",
     "output_type": "stream",
     "text": [
      "Convolutional layer description:  conv2d_11 : (3, 3, 10, 20)\n",
      "Number of filters in the convolutional layer : 20\n",
      "Learned features in this layer: (R G B) channels\n"
     ]
    },
    {
     "data": {
      "image/png": "[encoded data removed]",
      "text/plain": [
       "<Figure size 432x288 with 60 Axes>"
      ]
     },
     "metadata": {},
     "output_type": "display_data"
    },
    {
     "name": "stdout",
     "output_type": "stream",
     "text": [
      "Convolutional layer description:  conv2d_12 : (3, 3, 20, 40)\n",
      "Number of filters in the convolutional layer : 40\n",
      "Learned features in this layer: (R G B) channels\n"
     ]
    },
    {
     "data": {
      "image/png": "[encoded data removed]",
      "text/plain": [
       "<Figure size 432x288 with 120 Axes>"
      ]
     },
     "metadata": {},
     "output_type": "display_data"
    }
   ],
   "source": [
    "# displaying filters learned by model five\n",
    "display_filters(model_five)\n",
    "model_five.save('model_five.h5')"
   ]
  },
  {
   "cell_type": "markdown",
   "metadata": {},
   "source": [
    "# **Experiment three: Investigating how applying the different activation functions on the activation map influence the performance of the network:**\n",
    "\n",
    "In this section, we are going to apply different activation functions on the activation maps produced by our convolutional layers of our initial model."
   ]
  },
  {
   "cell_type": "markdown",
   "metadata": {},
   "source": [
    "## **Model six:**"
   ]
  },
  {
   "cell_type": "code",
   "execution_count": 27,
   "metadata": {},
   "outputs": [
    {
     "name": "stdout",
     "output_type": "stream",
     "text": [
      "Model: \"sequential_5\"\n",
      "_________________________________________________________________\n",
      "Layer (type)                 Output Shape              Param #   \n",
      "=================================================================\n",
      "conv2d_13 (Conv2D)           (None, 148, 148, 5)       140       \n",
      "_________________________________________________________________\n",
      "max_pooling2d_13 (MaxPooling (None, 74, 74, 5)         0         \n",
      "_________________________________________________________________\n",
      "conv2d_14 (Conv2D)           (None, 72, 72, 10)        460       \n",
      "_________________________________________________________________\n",
      "max_pooling2d_14 (MaxPooling (None, 36, 36, 10)        0         \n",
      "_________________________________________________________________\n",
      "flatten_5 (Flatten)          (None, 12960)             0         \n",
      "_________________________________________________________________\n",
      "dense_10 (Dense)             (None, 10)                129610    \n",
      "_________________________________________________________________\n",
      "dense_11 (Dense)             (None, 1)                 11        \n",
      "=================================================================\n",
      "Total params: 130,221\n",
      "Trainable params: 130,221\n",
      "Non-trainable params: 0\n",
      "_________________________________________________________________\n"
     ]
    }
   ],
   "source": [
    "# Constructing the model six\n",
    "model_six = tf.keras.models.Sequential([\n",
    "    tf.keras.layers.Conv2D(5, (3,3), activation = 'sigmoid', input_shape=(150,150,3)),\n",
    "    tf.keras.layers.MaxPooling2D((2,2)),\n",
    "    tf.keras.layers.Conv2D(10, (3,3), activation = 'sigmoid'),\n",
    "    tf.keras.layers.MaxPooling2D(2,2),\n",
    "    tf.keras.layers.Flatten(),\n",
    "    tf.keras.layers.Dense(10, activation = 'relu'),\n",
    "    tf.keras.layers.Dense(1, activation = 'sigmoid')\n",
    "])\n",
    "# model six summary\n",
    "model_six.summary()"
   ]
  },
  {
   "cell_type": "code",
   "execution_count": 28,
   "metadata": {},
   "outputs": [
    {
     "name": "stdout",
     "output_type": "stream",
     "text": [
      "Epoch 1/20\n",
      "13/13 [==============================] - 14s 799ms/step - loss: 0.6280 - acc: 0.6785 - val_loss: 0.5578 - val_acc: 0.7550\n",
      "\n",
      "Epoch 00001: val_acc improved from -inf to 0.75500, saving model to best_val_acc_model_six.h5\n",
      "Epoch 2/20\n",
      "13/13 [==============================] - 13s 797ms/step - loss: 0.6180 - acc: 0.7000 - val_loss: 0.5579 - val_acc: 0.7550\n",
      "\n",
      "Epoch 00002: val_acc did not improve from 0.75500\n",
      "Epoch 3/20\n",
      "13/13 [==============================] - 13s 811ms/step - loss: 0.6138 - acc: 0.7000 - val_loss: 0.5722 - val_acc: 0.7550\n",
      "\n",
      "Epoch 00003: val_acc did not improve from 0.75500\n",
      "Epoch 4/20\n",
      "13/13 [==============================] - 13s 749ms/step - loss: 0.6199 - acc: 0.7000 - val_loss: 0.5572 - val_acc: 0.7550\n",
      "\n",
      "Epoch 00004: val_acc did not improve from 0.75500\n",
      "Epoch 5/20\n",
      "13/13 [==============================] - 13s 784ms/step - loss: 0.6236 - acc: 0.7000 - val_loss: 0.5641 - val_acc: 0.7550\n",
      "\n",
      "Epoch 00005: val_acc did not improve from 0.75500\n",
      "Epoch 6/20\n",
      "13/13 [==============================] - 13s 694ms/step - loss: 0.6128 - acc: 0.7000 - val_loss: 0.5645 - val_acc: 0.7550\n",
      "\n",
      "Epoch 00006: val_acc did not improve from 0.75500\n",
      "Epoch 7/20\n",
      "13/13 [==============================] - 14s 824ms/step - loss: 0.6173 - acc: 0.7000 - val_loss: 0.5593 - val_acc: 0.7550\n",
      "\n",
      "Epoch 00007: val_acc did not improve from 0.75500\n",
      "Epoch 8/20\n",
      "13/13 [==============================] - 13s 708ms/step - loss: 0.6119 - acc: 0.7000 - val_loss: 0.5702 - val_acc: 0.7550\n",
      "\n",
      "Epoch 00008: val_acc did not improve from 0.75500\n",
      "Epoch 9/20\n",
      "13/13 [==============================] - 14s 843ms/step - loss: 0.6118 - acc: 0.7000 - val_loss: 0.5603 - val_acc: 0.7550\n",
      "\n",
      "Epoch 00009: val_acc did not improve from 0.75500\n",
      "Epoch 10/20\n",
      "13/13 [==============================] - 13s 764ms/step - loss: 0.6132 - acc: 0.7000 - val_loss: 0.5679 - val_acc: 0.7550\n",
      "\n",
      "Epoch 00010: val_acc did not improve from 0.75500\n",
      "Epoch 11/20\n",
      "13/13 [==============================] - 14s 866ms/step - loss: 0.6117 - acc: 0.7000 - val_loss: 0.5608 - val_acc: 0.7550\n",
      "\n",
      "Epoch 00011: val_acc did not improve from 0.75500\n",
      "Epoch 12/20\n",
      "13/13 [==============================] - 14s 805ms/step - loss: 0.6102 - acc: 0.7000 - val_loss: 0.5627 - val_acc: 0.7550\n",
      "\n",
      "Epoch 00012: val_acc did not improve from 0.75500\n",
      "Epoch 13/20\n",
      "13/13 [==============================] - 14s 765ms/step - loss: 0.6101 - acc: 0.7000 - val_loss: 0.5639 - val_acc: 0.7550\n",
      "\n",
      "Epoch 00013: val_acc did not improve from 0.75500\n",
      "Epoch 14/20\n",
      "13/13 [==============================] - 14s 749ms/step - loss: 0.6103 - acc: 0.7000 - val_loss: 0.5600 - val_acc: 0.7550\n",
      "\n",
      "Epoch 00014: val_acc did not improve from 0.75500\n",
      "Epoch 15/20\n",
      "13/13 [==============================] - 13s 753ms/step - loss: 0.6110 - acc: 0.7000 - val_loss: 0.5637 - val_acc: 0.7550\n",
      "\n",
      "Epoch 00015: val_acc did not improve from 0.75500\n",
      "Epoch 16/20\n",
      "13/13 [==============================] - 13s 750ms/step - loss: 0.6094 - acc: 0.7000 - val_loss: 0.5588 - val_acc: 0.7550\n",
      "\n",
      "Epoch 00016: val_acc did not improve from 0.75500\n",
      "Epoch 17/20\n",
      "13/13 [==============================] - 13s 769ms/step - loss: 0.6090 - acc: 0.7000 - val_loss: 0.5607 - val_acc: 0.7550\n",
      "\n",
      "Epoch 00017: val_acc did not improve from 0.75500\n",
      "Epoch 18/20\n",
      "13/13 [==============================] - 12s 770ms/step - loss: 0.6101 - acc: 0.7000 - val_loss: 0.5585 - val_acc: 0.7550\n",
      "\n",
      "Epoch 00018: val_acc did not improve from 0.75500\n",
      "Epoch 19/20\n",
      "13/13 [==============================] - 13s 833ms/step - loss: 0.6088 - acc: 0.7000 - val_loss: 0.5634 - val_acc: 0.7550\n",
      "\n",
      "Epoch 00019: val_acc did not improve from 0.75500\n",
      "Epoch 20/20\n",
      "13/13 [==============================] - 13s 751ms/step - loss: 0.6091 - acc: 0.7000 - val_loss: 0.5593 - val_acc: 0.7550\n",
      "\n",
      "Epoch 00020: val_acc did not improve from 0.75500\n"
     ]
    }
   ],
   "source": [
    "# train the  model six\n",
    "file_name = \"best_val_acc_model_six.h5\"\n",
    "model_hist = train_model(opt, loss_func, metrics_list, model_six, file_name)"
   ]
  },
  {
   "cell_type": "code",
   "execution_count": 29,
   "metadata": {},
   "outputs": [
    {
     "data": {
      "image/png": "[encoded data removed]",
      "text/plain": [
       "<Figure size 432x288 with 1 Axes>"
      ]
     },
     "metadata": {
      "needs_background": "light"
     },
     "output_type": "display_data"
    }
   ],
   "source": [
    "## plotting loss and accuracy functions for model six\n",
    "loss_acc_func(model_hist, \"model six\")"
   ]
  },
  {
   "cell_type": "code",
   "execution_count": 30,
   "metadata": {},
   "outputs": [
    {
     "name": "stdout",
     "output_type": "stream",
     "text": [
      "Convolutional layer description:  conv2d_13 : (3, 3, 3, 5)\n",
      "Number of filters in the convolutional layer : 5\n",
      "Learned features in this layer: (R G B) channels\n"
     ]
    },
    {
     "data": {
      "image/png": "[encoded data removed]",
      "text/plain": [
       "<Figure size 432x288 with 15 Axes>"
      ]
     },
     "metadata": {},
     "output_type": "display_data"
    },
    {
     "name": "stdout",
     "output_type": "stream",
     "text": [
      "Convolutional layer description:  conv2d_14 : (3, 3, 5, 10)\n",
      "Number of filters in the convolutional layer : 10\n",
      "Learned features in this layer: (R G B) channels\n"
     ]
    },
    {
     "data": {
      "image/png": "[encoded data removed]",
      "text/plain": [
       "<Figure size 432x288 with 30 Axes>"
      ]
     },
     "metadata": {},
     "output_type": "display_data"
    }
   ],
   "source": [
    "# displaying filters learned by model six\n",
    "display_filters(model_six)"
   ]
  },
  {
   "cell_type": "markdown",
   "metadata": {},
   "source": [
    "## **Model seven:**"
   ]
  },
  {
   "cell_type": "code",
   "execution_count": 31,
   "metadata": {},
   "outputs": [
    {
     "name": "stdout",
     "output_type": "stream",
     "text": [
      "Model: \"sequential_6\"\n",
      "_________________________________________________________________\n",
      "Layer (type)                 Output Shape              Param #   \n",
      "=================================================================\n",
      "conv2d_15 (Conv2D)           (None, 148, 148, 5)       140       \n",
      "_________________________________________________________________\n",
      "max_pooling2d_15 (MaxPooling (None, 74, 74, 5)         0         \n",
      "_________________________________________________________________\n",
      "conv2d_16 (Conv2D)           (None, 72, 72, 10)        460       \n",
      "_________________________________________________________________\n",
      "max_pooling2d_16 (MaxPooling (None, 36, 36, 10)        0         \n",
      "_________________________________________________________________\n",
      "flatten_6 (Flatten)          (None, 12960)             0         \n",
      "_________________________________________________________________\n",
      "dense_12 (Dense)             (None, 10)                129610    \n",
      "_________________________________________________________________\n",
      "dense_13 (Dense)             (None, 1)                 11        \n",
      "=================================================================\n",
      "Total params: 130,221\n",
      "Trainable params: 130,221\n",
      "Non-trainable params: 0\n",
      "_________________________________________________________________\n"
     ]
    }
   ],
   "source": [
    "# Constructing the model seven\n",
    "model_seven = tf.keras.models.Sequential([\n",
    "    tf.keras.layers.Conv2D(5, (3,3), activation = 'tanh', input_shape=(150,150,3)),\n",
    "    tf.keras.layers.MaxPooling2D((2,2)),\n",
    "    tf.keras.layers.Conv2D(10, (3,3), activation = 'tanh'),\n",
    "    tf.keras.layers.MaxPooling2D(2,2),\n",
    "    tf.keras.layers.Flatten(),\n",
    "    tf.keras.layers.Dense(10, activation = 'relu'),\n",
    "    tf.keras.layers.Dense(1, activation = 'sigmoid')\n",
    "])\n",
    "# model six summary\n",
    "model_seven.summary()"
   ]
  },
  {
   "cell_type": "code",
   "execution_count": 32,
   "metadata": {},
   "outputs": [
    {
     "name": "stdout",
     "output_type": "stream",
     "text": [
      "Epoch 1/20\n",
      "13/13 [==============================] - 13s 854ms/step - loss: 0.3688 - acc: 0.8077 - val_loss: 0.1727 - val_acc: 0.9300\n",
      "\n",
      "Epoch 00001: val_acc improved from -inf to 0.93000, saving model to best_val_acc_model_seven.h5\n",
      "Epoch 2/20\n",
      "13/13 [==============================] - 14s 807ms/step - loss: 0.2291 - acc: 0.9015 - val_loss: 0.1454 - val_acc: 0.9500\n",
      "\n",
      "Epoch 00002: val_acc improved from 0.93000 to 0.95000, saving model to best_val_acc_model_seven.h5\n",
      "Epoch 3/20\n",
      "13/13 [==============================] - 14s 794ms/step - loss: 0.1811 - acc: 0.9215 - val_loss: 0.1120 - val_acc: 0.9750\n",
      "\n",
      "Epoch 00003: val_acc improved from 0.95000 to 0.97500, saving model to best_val_acc_model_seven.h5\n",
      "Epoch 4/20\n",
      "13/13 [==============================] - 13s 810ms/step - loss: 0.1557 - acc: 0.9354 - val_loss: 0.1159 - val_acc: 0.9400\n",
      "\n",
      "Epoch 00004: val_acc did not improve from 0.97500\n",
      "Epoch 5/20\n",
      "13/13 [==============================] - 14s 757ms/step - loss: 0.1368 - acc: 0.9446 - val_loss: 0.1212 - val_acc: 0.9550\n",
      "\n",
      "Epoch 00005: val_acc did not improve from 0.97500\n",
      "Epoch 6/20\n",
      "13/13 [==============================] - 14s 819ms/step - loss: 0.1306 - acc: 0.9462 - val_loss: 0.1003 - val_acc: 0.9750\n",
      "\n",
      "Epoch 00006: val_acc did not improve from 0.97500\n",
      "Epoch 7/20\n",
      "13/13 [==============================] - 14s 793ms/step - loss: 0.1222 - acc: 0.9492 - val_loss: 0.0977 - val_acc: 0.9750\n",
      "\n",
      "Epoch 00007: val_acc did not improve from 0.97500\n",
      "Epoch 8/20\n",
      "13/13 [==============================] - 14s 830ms/step - loss: 0.1120 - acc: 0.9538 - val_loss: 0.1102 - val_acc: 0.9550\n",
      "\n",
      "Epoch 00008: val_acc did not improve from 0.97500\n",
      "Epoch 9/20\n",
      "13/13 [==============================] - 14s 826ms/step - loss: 0.1075 - acc: 0.9523 - val_loss: 0.1029 - val_acc: 0.9650\n",
      "\n",
      "Epoch 00009: val_acc did not improve from 0.97500\n",
      "Epoch 10/20\n",
      "13/13 [==============================] - 14s 786ms/step - loss: 0.1097 - acc: 0.9615 - val_loss: 0.0928 - val_acc: 0.9650\n",
      "\n",
      "Epoch 00010: val_acc did not improve from 0.97500\n",
      "Epoch 11/20\n",
      "13/13 [==============================] - 15s 805ms/step - loss: 0.0939 - acc: 0.9692 - val_loss: 0.0897 - val_acc: 0.9700\n",
      "\n",
      "Epoch 00011: val_acc did not improve from 0.97500\n",
      "Epoch 12/20\n",
      "13/13 [==============================] - 13s 811ms/step - loss: 0.0915 - acc: 0.9677 - val_loss: 0.0952 - val_acc: 0.9700\n",
      "\n",
      "Epoch 00012: val_acc did not improve from 0.97500\n",
      "Epoch 13/20\n",
      "13/13 [==============================] - 14s 837ms/step - loss: 0.0876 - acc: 0.9692 - val_loss: 0.0892 - val_acc: 0.9650\n",
      "\n",
      "Epoch 00013: val_acc did not improve from 0.97500\n",
      "Epoch 14/20\n",
      "13/13 [==============================] - 14s 815ms/step - loss: 0.0828 - acc: 0.9646 - val_loss: 0.0879 - val_acc: 0.9700\n",
      "\n",
      "Epoch 00014: val_acc did not improve from 0.97500\n",
      "Epoch 15/20\n",
      "13/13 [==============================] - 13s 800ms/step - loss: 0.0790 - acc: 0.9692 - val_loss: 0.0882 - val_acc: 0.9700\n",
      "\n",
      "Epoch 00015: val_acc did not improve from 0.97500\n",
      "Epoch 16/20\n",
      "13/13 [==============================] - 14s 948ms/step - loss: 0.0745 - acc: 0.9708 - val_loss: 0.0867 - val_acc: 0.9700\n",
      "\n",
      "Epoch 00016: val_acc did not improve from 0.97500\n",
      "Epoch 17/20\n",
      "13/13 [==============================] - 14s 873ms/step - loss: 0.0709 - acc: 0.9738 - val_loss: 0.0876 - val_acc: 0.9700\n",
      "\n",
      "Epoch 00017: val_acc did not improve from 0.97500\n",
      "Epoch 18/20\n",
      "13/13 [==============================] - 13s 764ms/step - loss: 0.0693 - acc: 0.9708 - val_loss: 0.0843 - val_acc: 0.9650\n",
      "\n",
      "Epoch 00018: val_acc did not improve from 0.97500\n",
      "Epoch 19/20\n",
      "13/13 [==============================] - 13s 812ms/step - loss: 0.0672 - acc: 0.9785 - val_loss: 0.0884 - val_acc: 0.9750\n",
      "\n",
      "Epoch 00019: val_acc did not improve from 0.97500\n",
      "Epoch 20/20\n",
      "13/13 [==============================] - 14s 780ms/step - loss: 0.0623 - acc: 0.9769 - val_loss: 0.0855 - val_acc: 0.9700\n",
      "\n",
      "Epoch 00020: val_acc did not improve from 0.97500\n"
     ]
    }
   ],
   "source": [
    "# train the  model seven\n",
    "file_name = \"best_val_acc_model_seven.h5\"\n",
    "model_hist = train_model(opt, loss_func, metrics_list, model_seven, file_name)"
   ]
  },
  {
   "cell_type": "code",
   "execution_count": 33,
   "metadata": {},
   "outputs": [
    {
     "data": {
      "image/png": "[encoded data removed]",
      "text/plain": [
       "<Figure size 432x288 with 1 Axes>"
      ]
     },
     "metadata": {
      "needs_background": "light"
     },
     "output_type": "display_data"
    }
   ],
   "source": [
    "## plotting loss and accuracy functions for model seven\n",
    "loss_acc_func(model_hist, \"model seven\")"
   ]
  },
  {
   "cell_type": "code",
   "execution_count": 34,
   "metadata": {},
   "outputs": [
    {
     "name": "stdout",
     "output_type": "stream",
     "text": [
      "Convolutional layer description:  conv2d_15 : (3, 3, 3, 5)\n",
      "Number of filters in the convolutional layer : 5\n",
      "Learned features in this layer: (R G B) channels\n"
     ]
    },
    {
     "data": {
      "image/png": "[encoded data removed]",
      "text/plain": [
       "<Figure size 432x288 with 15 Axes>"
      ]
     },
     "metadata": {},
     "output_type": "display_data"
    },
    {
     "name": "stdout",
     "output_type": "stream",
     "text": [
      "Convolutional layer description:  conv2d_16 : (3, 3, 5, 10)\n",
      "Number of filters in the convolutional layer : 10\n",
      "Learned features in this layer: (R G B) channels\n"
     ]
    },
    {
     "data": {
      "image/png": "[encoded data removed]",
      "text/plain": [
       "<Figure size 432x288 with 30 Axes>"
      ]
     },
     "metadata": {},
     "output_type": "display_data"
    }
   ],
   "source": [
    "# displaying filters learned by model seven\n",
    "display_filters(model_seven)"
   ]
  },
  {
   "cell_type": "markdown",
   "metadata": {},
   "source": [
    "# **Experiment four: Investigating how the window size of the pooling layers influences the performance of the network:**\n",
    "In this part, we investigate how the increase in the window size  of the pooling layers in our initial model will influence the network performance. "
   ]
  },
  {
   "cell_type": "markdown",
   "metadata": {},
   "source": [
    "## **Model eight:**"
   ]
  },
  {
   "cell_type": "code",
   "execution_count": null,
   "metadata": {},
   "outputs": [],
   "source": [
    "# Constructing the model eight\n",
    "model_eight = tf.keras.models.Sequential([\n",
    "    tf.keras.layers.Conv2D(5, (3,3), activation = 'relu', input_shape=(150,150,3)),\n",
    "    tf.keras.layers.MaxPooling2D((3,3)),\n",
    "    tf.keras.layers.Conv2D(10, (3,3), activation = 'relu'),\n",
    "    tf.keras.layers.MaxPooling2D(3,3),\n",
    "    tf.keras.layers.Flatten(),\n",
    "    tf.keras.layers.Dense(10, activation = 'relu'),\n",
    "    tf.keras.layers.Dense(1, activation = 'sigmoid')\n",
    "])\n",
    "# model summary\n",
    "model_eight.summary()"
   ]
  },
  {
   "cell_type": "code",
   "execution_count": 36,
   "metadata": {},
   "outputs": [
    {
     "name": "stdout",
     "output_type": "stream",
     "text": [
      "Epoch 1/20\n",
      "13/13 [==============================] - 14s 765ms/step - loss: 0.6452 - acc: 0.6738 - val_loss: 0.5576 - val_acc: 0.7550\n",
      "\n",
      "Epoch 00001: val_acc improved from -inf to 0.75500, saving model to best_val_acc_model_eight.h5\n",
      "Epoch 2/20\n",
      "13/13 [==============================] - 13s 744ms/step - loss: 0.5838 - acc: 0.7015 - val_loss: 0.4985 - val_acc: 0.7550\n",
      "\n",
      "Epoch 00002: val_acc did not improve from 0.75500\n",
      "Epoch 3/20\n",
      "13/13 [==============================] - 13s 761ms/step - loss: 0.5079 - acc: 0.7123 - val_loss: 0.4158 - val_acc: 0.8300\n",
      "\n",
      "Epoch 00003: val_acc improved from 0.75500 to 0.83000, saving model to best_val_acc_model_eight.h5\n",
      "Epoch 4/20\n",
      "13/13 [==============================] - 13s 762ms/step - loss: 0.4183 - acc: 0.8369 - val_loss: 0.3329 - val_acc: 0.9250\n",
      "\n",
      "Epoch 00004: val_acc improved from 0.83000 to 0.92500, saving model to best_val_acc_model_eight.h5\n",
      "Epoch 5/20\n",
      "13/13 [==============================] - 12s 717ms/step - loss: 0.3466 - acc: 0.8600 - val_loss: 0.2847 - val_acc: 0.9100\n",
      "\n",
      "Epoch 00005: val_acc did not improve from 0.92500\n",
      "Epoch 6/20\n",
      "13/13 [==============================] - 13s 755ms/step - loss: 0.2942 - acc: 0.8877 - val_loss: 0.2335 - val_acc: 0.9350\n",
      "\n",
      "Epoch 00006: val_acc improved from 0.92500 to 0.93500, saving model to best_val_acc_model_eight.h5\n",
      "Epoch 7/20\n",
      "13/13 [==============================] - 13s 717ms/step - loss: 0.2546 - acc: 0.9015 - val_loss: 0.1909 - val_acc: 0.9450\n",
      "\n",
      "Epoch 00007: val_acc improved from 0.93500 to 0.94500, saving model to best_val_acc_model_eight.h5\n",
      "Epoch 8/20\n",
      "13/13 [==============================] - 13s 686ms/step - loss: 0.2243 - acc: 0.9215 - val_loss: 0.1731 - val_acc: 0.9550\n",
      "\n",
      "Epoch 00008: val_acc improved from 0.94500 to 0.95500, saving model to best_val_acc_model_eight.h5\n",
      "Epoch 9/20\n",
      "13/13 [==============================] - 14s 834ms/step - loss: 0.2062 - acc: 0.9277 - val_loss: 0.1574 - val_acc: 0.9650\n",
      "\n",
      "Epoch 00009: val_acc improved from 0.95500 to 0.96500, saving model to best_val_acc_model_eight.h5\n",
      "Epoch 10/20\n",
      "13/13 [==============================] - 13s 741ms/step - loss: 0.1965 - acc: 0.9246 - val_loss: 0.1492 - val_acc: 0.9600\n",
      "\n",
      "Epoch 00010: val_acc did not improve from 0.96500\n",
      "Epoch 11/20\n",
      "13/13 [==============================] - 12s 732ms/step - loss: 0.1877 - acc: 0.9246 - val_loss: 0.1487 - val_acc: 0.9500\n",
      "\n",
      "Epoch 00011: val_acc did not improve from 0.96500\n",
      "Epoch 12/20\n",
      "13/13 [==============================] - 14s 785ms/step - loss: 0.1817 - acc: 0.9338 - val_loss: 0.1340 - val_acc: 0.9700\n",
      "\n",
      "Epoch 00012: val_acc improved from 0.96500 to 0.97000, saving model to best_val_acc_model_eight.h5\n",
      "Epoch 13/20\n",
      "13/13 [==============================] - 13s 703ms/step - loss: 0.1697 - acc: 0.9385 - val_loss: 0.1297 - val_acc: 0.9650\n",
      "\n",
      "Epoch 00013: val_acc did not improve from 0.97000\n",
      "Epoch 14/20\n",
      "13/13 [==============================] - 13s 697ms/step - loss: 0.1664 - acc: 0.9415 - val_loss: 0.1269 - val_acc: 0.9600\n",
      "\n",
      "Epoch 00014: val_acc did not improve from 0.97000\n",
      "Epoch 15/20\n",
      "13/13 [==============================] - 13s 697ms/step - loss: 0.1667 - acc: 0.9354 - val_loss: 0.1244 - val_acc: 0.9650\n",
      "\n",
      "Epoch 00015: val_acc did not improve from 0.97000\n",
      "Epoch 16/20\n",
      "13/13 [==============================] - 13s 757ms/step - loss: 0.1575 - acc: 0.9431 - val_loss: 0.1197 - val_acc: 0.9700\n",
      "\n",
      "Epoch 00016: val_acc did not improve from 0.97000\n",
      "Epoch 17/20\n",
      "13/13 [==============================] - 13s 719ms/step - loss: 0.1530 - acc: 0.9385 - val_loss: 0.1176 - val_acc: 0.9650\n",
      "\n",
      "Epoch 00017: val_acc did not improve from 0.97000\n",
      "Epoch 18/20\n",
      "13/13 [==============================] - 12s 682ms/step - loss: 0.1523 - acc: 0.9477 - val_loss: 0.1169 - val_acc: 0.9650\n",
      "\n",
      "Epoch 00018: val_acc did not improve from 0.97000\n",
      "Epoch 19/20\n",
      "13/13 [==============================] - 12s 667ms/step - loss: 0.1499 - acc: 0.9415 - val_loss: 0.1149 - val_acc: 0.9650\n",
      "\n",
      "Epoch 00019: val_acc did not improve from 0.97000\n",
      "Epoch 20/20\n",
      "13/13 [==============================] - 12s 682ms/step - loss: 0.1449 - acc: 0.9431 - val_loss: 0.1131 - val_acc: 0.9650\n",
      "\n",
      "Epoch 00020: val_acc did not improve from 0.97000\n"
     ]
    }
   ],
   "source": [
    "# train the  model eight\n",
    "file_name = \"best_val_acc_model_eight.h5\"\n",
    "model_hist = train_model(opt, loss_func, metrics_list,model_eight, file_name)"
   ]
  },
  {
   "cell_type": "code",
   "execution_count": 37,
   "metadata": {},
   "outputs": [
    {
     "data": {
      "image/png": "[encoded data removed]",
      "text/plain": [
       "<Figure size 432x288 with 1 Axes>"
      ]
     },
     "metadata": {
      "needs_background": "light"
     },
     "output_type": "display_data"
    }
   ],
   "source": [
    "## plotting loss and accuracy functions for model eight\n",
    "loss_acc_func(model_hist, \"model eight\")"
   ]
  },
  {
   "cell_type": "code",
   "execution_count": 38,
   "metadata": {},
   "outputs": [
    {
     "name": "stdout",
     "output_type": "stream",
     "text": [
      "Convolutional layer description:  conv2d_17 : (3, 3, 3, 5)\n",
      "Number of filters in the convolutional layer : 5\n",
      "Learned features in this layer: (R G B) channels\n"
     ]
    },
    {
     "data": {
      "image/png": "[encoded data removed]",
      "text/plain": [
       "<Figure size 432x288 with 15 Axes>"
      ]
     },
     "metadata": {},
     "output_type": "display_data"
    },
    {
     "name": "stdout",
     "output_type": "stream",
     "text": [
      "Convolutional layer description:  conv2d_18 : (3, 3, 5, 10)\n",
      "Number of filters in the convolutional layer : 10\n",
      "Learned features in this layer: (R G B) channels\n"
     ]
    },
    {
     "data": {
      "image/png": "[encoded data removed]",
      "text/plain": [
       "<Figure size 432x288 with 30 Axes>"
      ]
     },
     "metadata": {},
     "output_type": "display_data"
    }
   ],
   "source": [
    "# displaying filters learned by model eight\n",
    "display_filters(model_eight)\n",
    "model_eight.save('model_eight.h5')"
   ]
  },
  {
   "cell_type": "markdown",
   "metadata": {},
   "source": [
    "## **Model nine:**"
   ]
  },
  {
   "cell_type": "code",
   "execution_count": 39,
   "metadata": {},
   "outputs": [
    {
     "name": "stdout",
     "output_type": "stream",
     "text": [
      "Model: \"sequential_8\"\n",
      "_________________________________________________________________\n",
      "Layer (type)                 Output Shape              Param #   \n",
      "=================================================================\n",
      "conv2d_19 (Conv2D)           (None, 148, 148, 5)       140       \n",
      "_________________________________________________________________\n",
      "max_pooling2d_19 (MaxPooling (None, 29, 29, 5)         0         \n",
      "_________________________________________________________________\n",
      "conv2d_20 (Conv2D)           (None, 27, 27, 10)        460       \n",
      "_________________________________________________________________\n",
      "max_pooling2d_20 (MaxPooling (None, 5, 5, 10)          0         \n",
      "_________________________________________________________________\n",
      "flatten_8 (Flatten)          (None, 250)               0         \n",
      "_________________________________________________________________\n",
      "dense_16 (Dense)             (None, 10)                2510      \n",
      "_________________________________________________________________\n",
      "dense_17 (Dense)             (None, 1)                 11        \n",
      "=================================================================\n",
      "Total params: 3,121\n",
      "Trainable params: 3,121\n",
      "Non-trainable params: 0\n",
      "_________________________________________________________________\n"
     ]
    }
   ],
   "source": [
    "# Constructing the model nine\n",
    "model_nine = tf.keras.models.Sequential([\n",
    "    tf.keras.layers.Conv2D(5, (3,3), activation = 'relu', input_shape=(150,150,3)),\n",
    "    tf.keras.layers.MaxPooling2D((5,5)),\n",
    "    tf.keras.layers.Conv2D(10, (3,3), activation = 'relu'),\n",
    "    tf.keras.layers.MaxPooling2D(5,5),\n",
    "    tf.keras.layers.Flatten(),\n",
    "    tf.keras.layers.Dense(10, activation = 'relu'),\n",
    "    tf.keras.layers.Dense(1, activation = 'sigmoid')\n",
    "])\n",
    "# model nine summary\n",
    "model_nine.summary()"
   ]
  },
  {
   "cell_type": "code",
   "execution_count": 40,
   "metadata": {},
   "outputs": [
    {
     "name": "stdout",
     "output_type": "stream",
     "text": [
      "Epoch 1/20\n",
      "13/13 [==============================] - 12s 679ms/step - loss: 0.7490 - acc: 0.4477 - val_loss: 0.6009 - val_acc: 0.7500\n",
      "\n",
      "Epoch 00001: val_acc improved from -inf to 0.75000, saving model to best_val_acc_mode_nine.h5\n",
      "Epoch 2/20\n",
      "13/13 [==============================] - 12s 651ms/step - loss: 0.5386 - acc: 0.7092 - val_loss: 0.4544 - val_acc: 0.7600\n",
      "\n",
      "Epoch 00002: val_acc improved from 0.75000 to 0.76000, saving model to best_val_acc_mode_nine.h5\n",
      "Epoch 3/20\n",
      "13/13 [==============================] - 11s 622ms/step - loss: 0.4420 - acc: 0.7492 - val_loss: 0.3656 - val_acc: 0.8700\n",
      "\n",
      "Epoch 00003: val_acc improved from 0.76000 to 0.87000, saving model to best_val_acc_mode_nine.h5\n",
      "Epoch 4/20\n",
      "13/13 [==============================] - 12s 651ms/step - loss: 0.3496 - acc: 0.9031 - val_loss: 0.2764 - val_acc: 0.9650\n",
      "\n",
      "Epoch 00004: val_acc improved from 0.87000 to 0.96500, saving model to best_val_acc_mode_nine.h5\n",
      "Epoch 5/20\n",
      "13/13 [==============================] - 12s 657ms/step - loss: 0.2723 - acc: 0.9292 - val_loss: 0.2128 - val_acc: 0.9600\n",
      "\n",
      "Epoch 00005: val_acc did not improve from 0.96500\n",
      "Epoch 6/20\n",
      "13/13 [==============================] - 12s 644ms/step - loss: 0.2302 - acc: 0.9262 - val_loss: 0.1871 - val_acc: 0.9600\n",
      "\n",
      "Epoch 00006: val_acc did not improve from 0.96500\n",
      "Epoch 7/20\n",
      "13/13 [==============================] - 12s 601ms/step - loss: 0.2095 - acc: 0.9308 - val_loss: 0.1642 - val_acc: 0.9500\n",
      "\n",
      "Epoch 00007: val_acc did not improve from 0.96500\n",
      "Epoch 8/20\n",
      "13/13 [==============================] - 12s 709ms/step - loss: 0.1932 - acc: 0.9369 - val_loss: 0.1545 - val_acc: 0.9550\n",
      "\n",
      "Epoch 00008: val_acc did not improve from 0.96500\n",
      "Epoch 9/20\n",
      "13/13 [==============================] - 12s 722ms/step - loss: 0.1858 - acc: 0.9308 - val_loss: 0.1423 - val_acc: 0.9550\n",
      "\n",
      "Epoch 00009: val_acc did not improve from 0.96500\n",
      "Epoch 10/20\n",
      "13/13 [==============================] - 12s 682ms/step - loss: 0.1784 - acc: 0.9369 - val_loss: 0.1354 - val_acc: 0.9550\n",
      "\n",
      "Epoch 00010: val_acc did not improve from 0.96500\n",
      "Epoch 11/20\n",
      "13/13 [==============================] - 12s 673ms/step - loss: 0.1717 - acc: 0.9369 - val_loss: 0.1302 - val_acc: 0.9500\n",
      "\n",
      "Epoch 00011: val_acc did not improve from 0.96500\n",
      "Epoch 12/20\n",
      "13/13 [==============================] - 12s 649ms/step - loss: 0.1665 - acc: 0.9415 - val_loss: 0.1265 - val_acc: 0.9450\n",
      "\n",
      "Epoch 00012: val_acc did not improve from 0.96500\n",
      "Epoch 13/20\n",
      "13/13 [==============================] - 13s 711ms/step - loss: 0.1617 - acc: 0.9415 - val_loss: 0.1237 - val_acc: 0.9500\n",
      "\n",
      "Epoch 00013: val_acc did not improve from 0.96500\n",
      "Epoch 14/20\n",
      "13/13 [==============================] - 12s 658ms/step - loss: 0.1597 - acc: 0.9446 - val_loss: 0.1199 - val_acc: 0.9500\n",
      "\n",
      "Epoch 00014: val_acc did not improve from 0.96500\n",
      "Epoch 15/20\n",
      "13/13 [==============================] - 12s 659ms/step - loss: 0.1595 - acc: 0.9431 - val_loss: 0.1171 - val_acc: 0.9500\n",
      "\n",
      "Epoch 00015: val_acc did not improve from 0.96500\n",
      "Epoch 16/20\n",
      "13/13 [==============================] - 11s 610ms/step - loss: 0.1532 - acc: 0.9431 - val_loss: 0.1150 - val_acc: 0.9500\n",
      "\n",
      "Epoch 00016: val_acc did not improve from 0.96500\n",
      "Epoch 17/20\n",
      "13/13 [==============================] - 11s 668ms/step - loss: 0.1493 - acc: 0.9462 - val_loss: 0.1136 - val_acc: 0.9500\n",
      "\n",
      "Epoch 00017: val_acc did not improve from 0.96500\n",
      "Epoch 18/20\n",
      "13/13 [==============================] - 12s 605ms/step - loss: 0.1480 - acc: 0.9492 - val_loss: 0.1111 - val_acc: 0.9550\n",
      "\n",
      "Epoch 00018: val_acc did not improve from 0.96500\n",
      "Epoch 19/20\n",
      "13/13 [==============================] - 12s 706ms/step - loss: 0.1479 - acc: 0.9508 - val_loss: 0.1134 - val_acc: 0.9550\n",
      "\n",
      "Epoch 00019: val_acc did not improve from 0.96500\n",
      "Epoch 20/20\n",
      "13/13 [==============================] - 13s 700ms/step - loss: 0.1441 - acc: 0.9477 - val_loss: 0.1086 - val_acc: 0.9550\n",
      "\n",
      "Epoch 00020: val_acc did not improve from 0.96500\n"
     ]
    }
   ],
   "source": [
    "# train the  model nine\n",
    "file_name = \"best_val_acc_mode_nine.h5\"\n",
    "model_hist = train_model(opt, loss_func, metrics_list, model_nine, file_name)"
   ]
  },
  {
   "cell_type": "code",
   "execution_count": 41,
   "metadata": {},
   "outputs": [
    {
     "data": {
      "image/png": "[encoded data removed]",
      "text/plain": [
       "<Figure size 432x288 with 1 Axes>"
      ]
     },
     "metadata": {
      "needs_background": "light"
     },
     "output_type": "display_data"
    }
   ],
   "source": [
    "## plotting loss and accuracy functions for model nine\n",
    "loss_acc_func(model_hist, \"model_nine\")"
   ]
  },
  {
   "cell_type": "code",
   "execution_count": 42,
   "metadata": {},
   "outputs": [
    {
     "name": "stdout",
     "output_type": "stream",
     "text": [
      "Convolutional layer description:  conv2d_19 : (3, 3, 3, 5)\n",
      "Number of filters in the convolutional layer : 5\n",
      "Learned features in this layer: (R G B) channels\n"
     ]
    },
    {
     "data": {
      "image/png": "[encoded data removed]",
      "text/plain": [
       "<Figure size 432x288 with 15 Axes>"
      ]
     },
     "metadata": {},
     "output_type": "display_data"
    },
    {
     "name": "stdout",
     "output_type": "stream",
     "text": [
      "Convolutional layer description:  conv2d_20 : (3, 3, 5, 10)\n",
      "Number of filters in the convolutional layer : 10\n",
      "Learned features in this layer: (R G B) channels\n"
     ]
    },
    {
     "data": {
      "image/png": "[encoded data removed]",
      "text/plain": [
       "<Figure size 432x288 with 30 Axes>"
      ]
     },
     "metadata": {},
     "output_type": "display_data"
    }
   ],
   "source": [
    "# displaying filters learned by model nine\n",
    "display_filters(model_nine)"
   ]
  },
  {
   "cell_type": "markdown",
   "metadata": {},
   "source": [
    "## **Model Ten:**"
   ]
  },
  {
   "cell_type": "code",
   "execution_count": 43,
   "metadata": {},
   "outputs": [
    {
     "name": "stdout",
     "output_type": "stream",
     "text": [
      "Model: \"sequential_9\"\n",
      "_________________________________________________________________\n",
      "Layer (type)                 Output Shape              Param #   \n",
      "=================================================================\n",
      "conv2d_21 (Conv2D)           (None, 148, 148, 5)       140       \n",
      "_________________________________________________________________\n",
      "max_pooling2d_21 (MaxPooling (None, 21, 21, 5)         0         \n",
      "_________________________________________________________________\n",
      "conv2d_22 (Conv2D)           (None, 19, 19, 10)        460       \n",
      "_________________________________________________________________\n",
      "max_pooling2d_22 (MaxPooling (None, 2, 2, 10)          0         \n",
      "_________________________________________________________________\n",
      "flatten_9 (Flatten)          (None, 40)                0         \n",
      "_________________________________________________________________\n",
      "dense_18 (Dense)             (None, 10)                410       \n",
      "_________________________________________________________________\n",
      "dense_19 (Dense)             (None, 1)                 11        \n",
      "=================================================================\n",
      "Total params: 1,021\n",
      "Trainable params: 1,021\n",
      "Non-trainable params: 0\n",
      "_________________________________________________________________\n"
     ]
    }
   ],
   "source": [
    "\n",
    "# Constructing the model ten\n",
    "model_ten = tf.keras.models.Sequential([\n",
    "    tf.keras.layers.Conv2D(5, (3,3), activation = 'relu', input_shape=(150,150,3)),\n",
    "    tf.keras.layers.MaxPooling2D((7,7)),\n",
    "    tf.keras.layers.Conv2D(10, (3,3), activation = 'relu'),\n",
    "    tf.keras.layers.MaxPooling2D(7,7),\n",
    "    tf.keras.layers.Flatten(),\n",
    "    tf.keras.layers.Dense(10, activation = 'relu'),\n",
    "    tf.keras.layers.Dense(1, activation = 'sigmoid')\n",
    "])\n",
    "# model nine summary\n",
    "model_ten.summary()"
   ]
  },
  {
   "cell_type": "code",
   "execution_count": 44,
   "metadata": {},
   "outputs": [
    {
     "name": "stdout",
     "output_type": "stream",
     "text": [
      "Epoch 1/20\n",
      "13/13 [==============================] - 13s 670ms/step - loss: 0.6745 - acc: 0.6938 - val_loss: 0.6483 - val_acc: 0.7550\n",
      "\n",
      "Epoch 00001: val_acc improved from -inf to 0.75500, saving model to best_val_acc_model_ten.h5\n",
      "Epoch 2/20\n",
      "13/13 [==============================] - 12s 738ms/step - loss: 0.6402 - acc: 0.7000 - val_loss: 0.6052 - val_acc: 0.7550\n",
      "\n",
      "Epoch 00002: val_acc did not improve from 0.75500\n",
      "Epoch 3/20\n",
      "13/13 [==============================] - 12s 683ms/step - loss: 0.6127 - acc: 0.7000 - val_loss: 0.5705 - val_acc: 0.7550\n",
      "\n",
      "Epoch 00003: val_acc did not improve from 0.75500\n",
      "Epoch 4/20\n",
      "13/13 [==============================] - 12s 675ms/step - loss: 0.5897 - acc: 0.7000 - val_loss: 0.5412 - val_acc: 0.7550\n",
      "\n",
      "Epoch 00004: val_acc did not improve from 0.75500\n",
      "Epoch 5/20\n",
      "13/13 [==============================] - 13s 625ms/step - loss: 0.5698 - acc: 0.7000 - val_loss: 0.5149 - val_acc: 0.7550\n",
      "\n",
      "Epoch 00005: val_acc did not improve from 0.75500\n",
      "Epoch 6/20\n",
      "13/13 [==============================] - 11s 625ms/step - loss: 0.5468 - acc: 0.7000 - val_loss: 0.4882 - val_acc: 0.7550\n",
      "\n",
      "Epoch 00006: val_acc did not improve from 0.75500\n",
      "Epoch 7/20\n",
      "13/13 [==============================] - 13s 660ms/step - loss: 0.5159 - acc: 0.7000 - val_loss: 0.4554 - val_acc: 0.7550\n",
      "\n",
      "Epoch 00007: val_acc did not improve from 0.75500\n",
      "Epoch 8/20\n",
      "13/13 [==============================] - 11s 636ms/step - loss: 0.4835 - acc: 0.7000 - val_loss: 0.4240 - val_acc: 0.7550\n",
      "\n",
      "Epoch 00008: val_acc did not improve from 0.75500\n",
      "Epoch 9/20\n",
      "13/13 [==============================] - 12s 667ms/step - loss: 0.4554 - acc: 0.7031 - val_loss: 0.3945 - val_acc: 0.7900\n",
      "\n",
      "Epoch 00009: val_acc improved from 0.75500 to 0.79000, saving model to best_val_acc_model_ten.h5\n",
      "Epoch 10/20\n",
      "13/13 [==============================] - 12s 634ms/step - loss: 0.4294 - acc: 0.7246 - val_loss: 0.3700 - val_acc: 0.8350\n",
      "\n",
      "Epoch 00010: val_acc improved from 0.79000 to 0.83500, saving model to best_val_acc_model_ten.h5\n",
      "Epoch 11/20\n",
      "13/13 [==============================] - 12s 766ms/step - loss: 0.4065 - acc: 0.7969 - val_loss: 0.3493 - val_acc: 0.8700\n",
      "\n",
      "Epoch 00011: val_acc improved from 0.83500 to 0.87000, saving model to best_val_acc_model_ten.h5\n",
      "Epoch 12/20\n",
      "13/13 [==============================] - 13s 688ms/step - loss: 0.3866 - acc: 0.8308 - val_loss: 0.3296 - val_acc: 0.8900\n",
      "\n",
      "Epoch 00012: val_acc improved from 0.87000 to 0.89000, saving model to best_val_acc_model_ten.h5\n",
      "Epoch 13/20\n",
      "13/13 [==============================] - 12s 705ms/step - loss: 0.3685 - acc: 0.8523 - val_loss: 0.3145 - val_acc: 0.9100\n",
      "\n",
      "Epoch 00013: val_acc improved from 0.89000 to 0.91000, saving model to best_val_acc_model_ten.h5\n",
      "Epoch 14/20\n",
      "13/13 [==============================] - 12s 631ms/step - loss: 0.3528 - acc: 0.8646 - val_loss: 0.2983 - val_acc: 0.9150\n",
      "\n",
      "Epoch 00014: val_acc improved from 0.91000 to 0.91500, saving model to best_val_acc_model_ten.h5\n",
      "Epoch 15/20\n",
      "13/13 [==============================] - 13s 768ms/step - loss: 0.3399 - acc: 0.8862 - val_loss: 0.2858 - val_acc: 0.9250\n",
      "\n",
      "Epoch 00015: val_acc improved from 0.91500 to 0.92500, saving model to best_val_acc_model_ten.h5\n",
      "Epoch 16/20\n",
      "13/13 [==============================] - 13s 683ms/step - loss: 0.3277 - acc: 0.8846 - val_loss: 0.2746 - val_acc: 0.9350\n",
      "\n",
      "Epoch 00016: val_acc improved from 0.92500 to 0.93500, saving model to best_val_acc_model_ten.h5\n",
      "Epoch 17/20\n",
      "13/13 [==============================] - 13s 800ms/step - loss: 0.3160 - acc: 0.9015 - val_loss: 0.2640 - val_acc: 0.9300\n",
      "\n",
      "Epoch 00017: val_acc did not improve from 0.93500\n",
      "Epoch 18/20\n",
      "13/13 [==============================] - 13s 863ms/step - loss: 0.3060 - acc: 0.9046 - val_loss: 0.2554 - val_acc: 0.9450\n",
      "\n",
      "Epoch 00018: val_acc improved from 0.93500 to 0.94500, saving model to best_val_acc_model_ten.h5\n",
      "Epoch 19/20\n",
      "13/13 [==============================] - 12s 717ms/step - loss: 0.2976 - acc: 0.9077 - val_loss: 0.2477 - val_acc: 0.9450\n",
      "\n",
      "Epoch 00019: val_acc did not improve from 0.94500\n",
      "Epoch 20/20\n",
      "13/13 [==============================] - 12s 746ms/step - loss: 0.2879 - acc: 0.9123 - val_loss: 0.2386 - val_acc: 0.9450\n",
      "\n",
      "Epoch 00020: val_acc did not improve from 0.94500\n"
     ]
    }
   ],
   "source": [
    "# train the  model ten\n",
    "file_name = \"best_val_acc_model_ten.h5\"\n",
    "model_hist = train_model(opt, loss_func, metrics_list, model_ten, file_name)"
   ]
  },
  {
   "cell_type": "code",
   "execution_count": 45,
   "metadata": {},
   "outputs": [
    {
     "data": {
      "image/png": "[encoded data removed]",
      "text/plain": [
       "<Figure size 432x288 with 1 Axes>"
      ]
     },
     "metadata": {
      "needs_background": "light"
     },
     "output_type": "display_data"
    }
   ],
   "source": [
    "## plotting loss and accuracy functions for model nine\n",
    "loss_acc_func(model_hist, \"model_ten\")"
   ]
  },
  {
   "cell_type": "code",
   "execution_count": 46,
   "metadata": {},
   "outputs": [
    {
     "name": "stdout",
     "output_type": "stream",
     "text": [
      "Convolutional layer description:  conv2d_21 : (3, 3, 3, 5)\n",
      "Number of filters in the convolutional layer : 5\n",
      "Learned features in this layer: (R G B) channels\n"
     ]
    },
    {
     "data": {
      "image/png": "[encoded data removed]",
      "text/plain": [
       "<Figure size 432x288 with 15 Axes>"
      ]
     },
     "metadata": {},
     "output_type": "display_data"
    },
    {
     "name": "stdout",
     "output_type": "stream",
     "text": [
      "Convolutional layer description:  conv2d_22 : (3, 3, 5, 10)\n",
      "Number of filters in the convolutional layer : 10\n",
      "Learned features in this layer: (R G B) channels\n"
     ]
    },
    {
     "data": {
      "image/png": "[encoded data removed]",
      "text/plain": [
       "<Figure size 432x288 with 30 Axes>"
      ]
     },
     "metadata": {},
     "output_type": "display_data"
    }
   ],
   "source": [
    "# displaying filters learned by model ten\n",
    "display_filters(model_ten)"
   ]
  },
  {
   "cell_type": "markdown",
   "metadata": {},
   "source": [
    "# **Experiment five: Investigating how the different optimizers influence the performance of network:**\n",
    "In this section, we experiment with tensorflow optimizers and investigate how they influence the performance of our network."
   ]
  },
  {
   "cell_type": "markdown",
   "metadata": {},
   "source": [
    "## **Model eleven:**"
   ]
  },
  {
   "cell_type": "code",
   "execution_count": 47,
   "metadata": {},
   "outputs": [
    {
     "name": "stdout",
     "output_type": "stream",
     "text": [
      "Model: \"sequential_10\"\n",
      "_________________________________________________________________\n",
      "Layer (type)                 Output Shape              Param #   \n",
      "=================================================================\n",
      "conv2d_23 (Conv2D)           (None, 148, 148, 5)       140       \n",
      "_________________________________________________________________\n",
      "max_pooling2d_23 (MaxPooling (None, 74, 74, 5)         0         \n",
      "_________________________________________________________________\n",
      "conv2d_24 (Conv2D)           (None, 72, 72, 10)        460       \n",
      "_________________________________________________________________\n",
      "max_pooling2d_24 (MaxPooling (None, 36, 36, 10)        0         \n",
      "_________________________________________________________________\n",
      "flatten_10 (Flatten)         (None, 12960)             0         \n",
      "_________________________________________________________________\n",
      "dense_20 (Dense)             (None, 10)                129610    \n",
      "_________________________________________________________________\n",
      "dense_21 (Dense)             (None, 1)                 11        \n",
      "=================================================================\n",
      "Total params: 130,221\n",
      "Trainable params: 130,221\n",
      "Non-trainable params: 0\n",
      "_________________________________________________________________\n"
     ]
    }
   ],
   "source": [
    "#Constructing the  model eleven\n",
    "model_eleven = tf.keras.models.Sequential([\n",
    "    tf.keras.layers.Conv2D(5, (3,3), activation = 'relu', input_shape=(150,150,3)),\n",
    "    tf.keras.layers.MaxPooling2D((2,2)),\n",
    "    tf.keras.layers.Conv2D(10, (3,3), activation = 'relu'),\n",
    "    tf.keras.layers.MaxPooling2D(2,2),\n",
    "    tf.keras.layers.Flatten(),\n",
    "    tf.keras.layers.Dense(10, activation = 'relu'),\n",
    "    tf.keras.layers.Dense(1, activation = 'sigmoid')\n",
    "])\n",
    "\n",
    "# initializing optimizer\n",
    "opt = tf.keras.optimizers.RMSprop(learning_rate = lr)\n",
    "\n",
    "# model summary\n",
    "model_eleven.summary()"
   ]
  },
  {
   "cell_type": "code",
   "execution_count": 48,
   "metadata": {},
   "outputs": [
    {
     "name": "stdout",
     "output_type": "stream",
     "text": [
      "Epoch 1/20\n",
      "13/13 [==============================] - 15s 853ms/step - loss: 0.6155 - acc: 0.6892 - val_loss: 0.5339 - val_acc: 0.7550\n",
      "\n",
      "Epoch 00001: val_acc improved from -inf to 0.75500, saving model to best_val_acc_model_eleven.h5\n",
      "Epoch 2/20\n",
      "13/13 [==============================] - 13s 788ms/step - loss: 0.5531 - acc: 0.7000 - val_loss: 0.5052 - val_acc: 0.7750\n",
      "\n",
      "Epoch 00002: val_acc improved from 0.75500 to 0.77500, saving model to best_val_acc_model_eleven.h5\n",
      "Epoch 3/20\n",
      "13/13 [==============================] - 12s 761ms/step - loss: 0.5132 - acc: 0.7246 - val_loss: 0.4766 - val_acc: 0.7800\n",
      "\n",
      "Epoch 00003: val_acc improved from 0.77500 to 0.78000, saving model to best_val_acc_model_eleven.h5\n",
      "Epoch 4/20\n",
      "13/13 [==============================] - 14s 892ms/step - loss: 0.4808 - acc: 0.7708 - val_loss: 0.4432 - val_acc: 0.7900\n",
      "\n",
      "Epoch 00004: val_acc improved from 0.78000 to 0.79000, saving model to best_val_acc_model_eleven.h5\n",
      "Epoch 5/20\n",
      "13/13 [==============================] - 15s 832ms/step - loss: 0.4558 - acc: 0.7738 - val_loss: 0.4285 - val_acc: 0.7950\n",
      "\n",
      "Epoch 00005: val_acc improved from 0.79000 to 0.79500, saving model to best_val_acc_model_eleven.h5\n",
      "Epoch 6/20\n",
      "13/13 [==============================] - 13s 761ms/step - loss: 0.4271 - acc: 0.7938 - val_loss: 0.4177 - val_acc: 0.8250\n",
      "\n",
      "Epoch 00006: val_acc improved from 0.79500 to 0.82500, saving model to best_val_acc_model_eleven.h5\n",
      "Epoch 7/20\n",
      "13/13 [==============================] - 13s 731ms/step - loss: 0.3958 - acc: 0.8385 - val_loss: 0.3687 - val_acc: 0.8150\n",
      "\n",
      "Epoch 00007: val_acc did not improve from 0.82500\n",
      "Epoch 8/20\n",
      "13/13 [==============================] - 14s 794ms/step - loss: 0.3522 - acc: 0.8631 - val_loss: 0.3382 - val_acc: 0.8550\n",
      "\n",
      "Epoch 00008: val_acc improved from 0.82500 to 0.85500, saving model to best_val_acc_model_eleven.h5\n",
      "Epoch 9/20\n",
      "13/13 [==============================] - 14s 792ms/step - loss: 0.3162 - acc: 0.8954 - val_loss: 0.3113 - val_acc: 0.9000\n",
      "\n",
      "Epoch 00009: val_acc improved from 0.85500 to 0.90000, saving model to best_val_acc_model_eleven.h5\n",
      "Epoch 10/20\n",
      "13/13 [==============================] - 13s 720ms/step - loss: 0.2900 - acc: 0.8938 - val_loss: 0.2822 - val_acc: 0.9000\n",
      "\n",
      "Epoch 00010: val_acc did not improve from 0.90000\n",
      "Epoch 11/20\n",
      "13/13 [==============================] - 15s 777ms/step - loss: 0.2500 - acc: 0.9138 - val_loss: 0.2711 - val_acc: 0.8750\n",
      "\n",
      "Epoch 00011: val_acc did not improve from 0.90000\n",
      "Epoch 12/20\n",
      "13/13 [==============================] - 14s 786ms/step - loss: 0.2264 - acc: 0.9154 - val_loss: 0.2311 - val_acc: 0.9250\n",
      "\n",
      "Epoch 00012: val_acc improved from 0.90000 to 0.92500, saving model to best_val_acc_model_eleven.h5\n",
      "Epoch 13/20\n",
      "13/13 [==============================] - 13s 816ms/step - loss: 0.2104 - acc: 0.9154 - val_loss: 0.2334 - val_acc: 0.9100\n",
      "\n",
      "Epoch 00013: val_acc did not improve from 0.92500\n",
      "Epoch 14/20\n",
      "13/13 [==============================] - 13s 833ms/step - loss: 0.1851 - acc: 0.9400 - val_loss: 0.2029 - val_acc: 0.9400\n",
      "\n",
      "Epoch 00014: val_acc improved from 0.92500 to 0.94000, saving model to best_val_acc_model_eleven.h5\n",
      "Epoch 15/20\n",
      "13/13 [==============================] - 14s 760ms/step - loss: 0.1790 - acc: 0.9323 - val_loss: 0.1898 - val_acc: 0.9450\n",
      "\n",
      "Epoch 00015: val_acc improved from 0.94000 to 0.94500, saving model to best_val_acc_model_eleven.h5\n",
      "Epoch 16/20\n",
      "13/13 [==============================] - 13s 762ms/step - loss: 0.1745 - acc: 0.9292 - val_loss: 0.1868 - val_acc: 0.9250\n",
      "\n",
      "Epoch 00016: val_acc did not improve from 0.94500\n",
      "Epoch 17/20\n",
      "13/13 [==============================] - 14s 787ms/step - loss: 0.1586 - acc: 0.9462 - val_loss: 0.1739 - val_acc: 0.9500\n",
      "\n",
      "Epoch 00017: val_acc improved from 0.94500 to 0.95000, saving model to best_val_acc_model_eleven.h5\n",
      "Epoch 18/20\n",
      "13/13 [==============================] - 13s 761ms/step - loss: 0.1464 - acc: 0.9446 - val_loss: 0.1746 - val_acc: 0.9350\n",
      "\n",
      "Epoch 00018: val_acc did not improve from 0.95000\n",
      "Epoch 19/20\n",
      "13/13 [==============================] - 14s 833ms/step - loss: 0.1400 - acc: 0.9462 - val_loss: 0.1831 - val_acc: 0.9400\n",
      "\n",
      "Epoch 00019: val_acc did not improve from 0.95000\n",
      "Epoch 20/20\n",
      "13/13 [==============================] - 13s 754ms/step - loss: 0.1304 - acc: 0.9508 - val_loss: 0.1592 - val_acc: 0.9450\n",
      "\n",
      "Epoch 00020: val_acc did not improve from 0.95000\n"
     ]
    }
   ],
   "source": [
    "# train the  model eleven\n",
    "file_name = \"best_val_acc_model_eleven.h5\"\n",
    "model_hist = train_model(opt, loss_func, metrics_list, model_eleven, file_name)"
   ]
  },
  {
   "cell_type": "code",
   "execution_count": 49,
   "metadata": {},
   "outputs": [
    {
     "data": {
      "image/png": "[encoded data removed]",
      "text/plain": [
       "<Figure size 432x288 with 1 Axes>"
      ]
     },
     "metadata": {
      "needs_background": "light"
     },
     "output_type": "display_data"
    }
   ],
   "source": [
    "## plotting loss and accuracy functions for model nine\n",
    "loss_acc_func(model_hist, \"model_eleven\")"
   ]
  },
  {
   "cell_type": "code",
   "execution_count": 50,
   "metadata": {},
   "outputs": [
    {
     "name": "stdout",
     "output_type": "stream",
     "text": [
      "Convolutional layer description:  conv2d_23 : (3, 3, 3, 5)\n",
      "Number of filters in the convolutional layer : 5\n",
      "Learned features in this layer: (R G B) channels\n"
     ]
    },
    {
     "data": {
      "image/png": "[encoded data removed]",
      "text/plain": [
       "<Figure size 432x288 with 15 Axes>"
      ]
     },
     "metadata": {},
     "output_type": "display_data"
    },
    {
     "name": "stdout",
     "output_type": "stream",
     "text": [
      "Convolutional layer description:  conv2d_24 : (3, 3, 5, 10)\n",
      "Number of filters in the convolutional layer : 10\n",
      "Learned features in this layer: (R G B) channels\n"
     ]
    },
    {
     "data": {
      "image/png": "[encoded data removed]",
      "text/plain": [
       "<Figure size 432x288 with 30 Axes>"
      ]
     },
     "metadata": {},
     "output_type": "display_data"
    }
   ],
   "source": [
    "# displaying filters learned by model eleven\n",
    "display_filters(model_eleven)\n",
    "model_eleven.save('model_eleven.h5')"
   ]
  },
  {
   "cell_type": "markdown",
   "metadata": {},
   "source": [
    "## **Model twelve:**"
   ]
  },
  {
   "cell_type": "code",
   "execution_count": 51,
   "metadata": {},
   "outputs": [
    {
     "name": "stdout",
     "output_type": "stream",
     "text": [
      "Model: \"sequential_11\"\n",
      "_________________________________________________________________\n",
      "Layer (type)                 Output Shape              Param #   \n",
      "=================================================================\n",
      "conv2d_25 (Conv2D)           (None, 148, 148, 5)       140       \n",
      "_________________________________________________________________\n",
      "max_pooling2d_25 (MaxPooling (None, 74, 74, 5)         0         \n",
      "_________________________________________________________________\n",
      "conv2d_26 (Conv2D)           (None, 72, 72, 10)        460       \n",
      "_________________________________________________________________\n",
      "max_pooling2d_26 (MaxPooling (None, 36, 36, 10)        0         \n",
      "_________________________________________________________________\n",
      "flatten_11 (Flatten)         (None, 12960)             0         \n",
      "_________________________________________________________________\n",
      "dense_22 (Dense)             (None, 10)                129610    \n",
      "_________________________________________________________________\n",
      "dense_23 (Dense)             (None, 1)                 11        \n",
      "=================================================================\n",
      "Total params: 130,221\n",
      "Trainable params: 130,221\n",
      "Non-trainable params: 0\n",
      "_________________________________________________________________\n"
     ]
    }
   ],
   "source": [
    "#Constructing the  model twelve\n",
    "model_twelve = tf.keras.models.Sequential([\n",
    "    tf.keras.layers.Conv2D(5, (3,3), activation = 'relu', input_shape=(150,150,3)),\n",
    "    tf.keras.layers.MaxPooling2D((2,2)),\n",
    "    tf.keras.layers.Conv2D(10, (3,3), activation = 'relu'),\n",
    "    tf.keras.layers.MaxPooling2D(2,2),\n",
    "    tf.keras.layers.Flatten(),\n",
    "    tf.keras.layers.Dense(10, activation = 'relu'),\n",
    "    tf.keras.layers.Dense(1, activation = 'sigmoid')\n",
    "])\n",
    "\n",
    "# initializing optimizer\n",
    "opt = tf.keras.optimizers.SGD(learning_rate = lr)\n",
    "\n",
    "# model summary\n",
    "model_twelve.summary()"
   ]
  },
  {
   "cell_type": "code",
   "execution_count": 52,
   "metadata": {},
   "outputs": [
    {
     "name": "stdout",
     "output_type": "stream",
     "text": [
      "Epoch 1/20\n",
      "13/13 [==============================] - 14s 784ms/step - loss: 0.8182 - acc: 0.3062 - val_loss: 0.8046 - val_acc: 0.2650\n",
      "\n",
      "Epoch 00001: val_acc improved from -inf to 0.26500, saving model to best_val_acc_model_twelve.h5\n",
      "Epoch 2/20\n",
      "13/13 [==============================] - 13s 749ms/step - loss: 0.7603 - acc: 0.3169 - val_loss: 0.7490 - val_acc: 0.2850\n",
      "\n",
      "Epoch 00002: val_acc improved from 0.26500 to 0.28500, saving model to best_val_acc_model_twelve.h5\n",
      "Epoch 3/20\n",
      "13/13 [==============================] - 13s 827ms/step - loss: 0.7209 - acc: 0.3754 - val_loss: 0.7110 - val_acc: 0.4450\n",
      "\n",
      "Epoch 00003: val_acc improved from 0.28500 to 0.44500, saving model to best_val_acc_model_twelve.h5\n",
      "Epoch 4/20\n",
      "13/13 [==============================] - 13s 722ms/step - loss: 0.6958 - acc: 0.5031 - val_loss: 0.6867 - val_acc: 0.5450\n",
      "\n",
      "Epoch 00004: val_acc improved from 0.44500 to 0.54500, saving model to best_val_acc_model_twelve.h5\n",
      "Epoch 5/20\n",
      "13/13 [==============================] - 14s 812ms/step - loss: 0.6801 - acc: 0.5892 - val_loss: 0.6703 - val_acc: 0.6650\n",
      "\n",
      "Epoch 00005: val_acc improved from 0.54500 to 0.66500, saving model to best_val_acc_model_twelve.h5\n",
      "Epoch 6/20\n",
      "13/13 [==============================] - 13s 730ms/step - loss: 0.6689 - acc: 0.6354 - val_loss: 0.6577 - val_acc: 0.7300\n",
      "\n",
      "Epoch 00006: val_acc improved from 0.66500 to 0.73000, saving model to best_val_acc_model_twelve.h5\n",
      "Epoch 7/20\n",
      "13/13 [==============================] - 13s 779ms/step - loss: 0.6598 - acc: 0.6631 - val_loss: 0.6474 - val_acc: 0.7350\n",
      "\n",
      "Epoch 00007: val_acc improved from 0.73000 to 0.73500, saving model to best_val_acc_model_twelve.h5\n",
      "Epoch 8/20\n",
      "13/13 [==============================] - 14s 780ms/step - loss: 0.6524 - acc: 0.6692 - val_loss: 0.6385 - val_acc: 0.7450\n",
      "\n",
      "Epoch 00008: val_acc improved from 0.73500 to 0.74500, saving model to best_val_acc_model_twelve.h5\n",
      "Epoch 9/20\n",
      "13/13 [==============================] - 14s 778ms/step - loss: 0.6461 - acc: 0.6800 - val_loss: 0.6306 - val_acc: 0.7500\n",
      "\n",
      "Epoch 00009: val_acc improved from 0.74500 to 0.75000, saving model to best_val_acc_model_twelve.h5\n",
      "Epoch 10/20\n",
      "13/13 [==============================] - 14s 773ms/step - loss: 0.6405 - acc: 0.6877 - val_loss: 0.6238 - val_acc: 0.7450\n",
      "\n",
      "Epoch 00010: val_acc did not improve from 0.75000\n",
      "Epoch 11/20\n",
      "13/13 [==============================] - 15s 792ms/step - loss: 0.6358 - acc: 0.6908 - val_loss: 0.6178 - val_acc: 0.7500\n",
      "\n",
      "Epoch 00011: val_acc did not improve from 0.75000\n",
      "Epoch 12/20\n",
      "13/13 [==============================] - 14s 890ms/step - loss: 0.6314 - acc: 0.6923 - val_loss: 0.6124 - val_acc: 0.7550\n",
      "\n",
      "Epoch 00012: val_acc improved from 0.75000 to 0.75500, saving model to best_val_acc_model_twelve.h5\n",
      "Epoch 13/20\n",
      "13/13 [==============================] - 13s 735ms/step - loss: 0.6275 - acc: 0.7000 - val_loss: 0.6076 - val_acc: 0.7550\n",
      "\n",
      "Epoch 00013: val_acc did not improve from 0.75500\n",
      "Epoch 14/20\n",
      "13/13 [==============================] - 14s 794ms/step - loss: 0.6238 - acc: 0.7000 - val_loss: 0.6032 - val_acc: 0.7550\n",
      "\n",
      "Epoch 00014: val_acc did not improve from 0.75500\n",
      "Epoch 15/20\n",
      "13/13 [==============================] - 14s 718ms/step - loss: 0.6203 - acc: 0.7000 - val_loss: 0.5994 - val_acc: 0.7550\n",
      "\n",
      "Epoch 00015: val_acc did not improve from 0.75500\n",
      "Epoch 16/20\n",
      "13/13 [==============================] - 15s 874ms/step - loss: 0.6172 - acc: 0.7000 - val_loss: 0.5957 - val_acc: 0.7550\n",
      "\n",
      "Epoch 00016: val_acc did not improve from 0.75500\n",
      "Epoch 17/20\n",
      "13/13 [==============================] - 14s 777ms/step - loss: 0.6143 - acc: 0.7015 - val_loss: 0.5923 - val_acc: 0.7550\n",
      "\n",
      "Epoch 00017: val_acc did not improve from 0.75500\n",
      "Epoch 18/20\n",
      "13/13 [==============================] - 14s 794ms/step - loss: 0.6114 - acc: 0.7015 - val_loss: 0.5890 - val_acc: 0.7550\n",
      "\n",
      "Epoch 00018: val_acc did not improve from 0.75500\n",
      "Epoch 19/20\n",
      "13/13 [==============================] - 14s 800ms/step - loss: 0.6086 - acc: 0.7031 - val_loss: 0.5859 - val_acc: 0.7550\n",
      "\n",
      "Epoch 00019: val_acc did not improve from 0.75500\n",
      "Epoch 20/20\n",
      "13/13 [==============================] - 14s 793ms/step - loss: 0.6058 - acc: 0.7031 - val_loss: 0.5830 - val_acc: 0.7550\n",
      "\n",
      "Epoch 00020: val_acc did not improve from 0.75500\n"
     ]
    }
   ],
   "source": [
    "# train the  model twelve\n",
    "file_name = \"best_val_acc_model_twelve.h5\"\n",
    "model_hist = train_model(opt, loss_func, metrics_list, model_twelve,file_name)"
   ]
  },
  {
   "cell_type": "code",
   "execution_count": 53,
   "metadata": {},
   "outputs": [
    {
     "data": {
      "image/png": "[encoded data removed]",
      "text/plain": [
       "<Figure size 432x288 with 1 Axes>"
      ]
     },
     "metadata": {
      "needs_background": "light"
     },
     "output_type": "display_data"
    }
   ],
   "source": [
    "## plotting loss and accuracy functions for mode twelve\n",
    "loss_acc_func(model_hist, \"model_twelve\")"
   ]
  },
  {
   "cell_type": "code",
   "execution_count": 54,
   "metadata": {},
   "outputs": [
    {
     "name": "stdout",
     "output_type": "stream",
     "text": [
      "Convolutional layer description:  conv2d_25 : (3, 3, 3, 5)\n",
      "Number of filters in the convolutional layer : 5\n",
      "Learned features in this layer: (R G B) channels\n"
     ]
    },
    {
     "data": {
      "image/png": "[encoded data removed]",
      "text/plain": [
       "<Figure size 432x288 with 15 Axes>"
      ]
     },
     "metadata": {},
     "output_type": "display_data"
    },
    {
     "name": "stdout",
     "output_type": "stream",
     "text": [
      "Convolutional layer description:  conv2d_26 : (3, 3, 5, 10)\n",
      "Number of filters in the convolutional layer : 10\n",
      "Learned features in this layer: (R G B) channels\n"
     ]
    },
    {
     "data": {
      "image/png": "[encoded data removed]",
      "text/plain": [
       "<Figure size 432x288 with 30 Axes>"
      ]
     },
     "metadata": {},
     "output_type": "display_data"
    }
   ],
   "source": [
    "# displaying filters learned by model twelve\n",
    "display_filters(model_twelve)\n",
    "model_twelve.save('model_twelve.h5')"
   ]
  },
  {
   "cell_type": "markdown",
   "metadata": {},
   "source": [
    "## **Model thirteen:**"
   ]
  },
  {
   "cell_type": "code",
   "execution_count": 55,
   "metadata": {},
   "outputs": [
    {
     "name": "stdout",
     "output_type": "stream",
     "text": [
      "Model: \"sequential_12\"\n",
      "_________________________________________________________________\n",
      "Layer (type)                 Output Shape              Param #   \n",
      "=================================================================\n",
      "conv2d_27 (Conv2D)           (None, 148, 148, 5)       140       \n",
      "_________________________________________________________________\n",
      "max_pooling2d_27 (MaxPooling (None, 74, 74, 5)         0         \n",
      "_________________________________________________________________\n",
      "conv2d_28 (Conv2D)           (None, 72, 72, 10)        460       \n",
      "_________________________________________________________________\n",
      "max_pooling2d_28 (MaxPooling (None, 36, 36, 10)        0         \n",
      "_________________________________________________________________\n",
      "flatten_12 (Flatten)         (None, 12960)             0         \n",
      "_________________________________________________________________\n",
      "dense_24 (Dense)             (None, 10)                129610    \n",
      "_________________________________________________________________\n",
      "dense_25 (Dense)             (None, 1)                 11        \n",
      "=================================================================\n",
      "Total params: 130,221\n",
      "Trainable params: 130,221\n",
      "Non-trainable params: 0\n",
      "_________________________________________________________________\n"
     ]
    }
   ],
   "source": [
    "#Constructing the  model thirteen\n",
    "model_thirteen = tf.keras.models.Sequential([\n",
    "    tf.keras.layers.Conv2D(5, (3,3), activation = 'relu', input_shape=(150,150,3)),\n",
    "    tf.keras.layers.MaxPooling2D((2,2)),\n",
    "    tf.keras.layers.Conv2D(10, (3,3), activation = 'relu'),\n",
    "    tf.keras.layers.MaxPooling2D(2,2),\n",
    "    tf.keras.layers.Flatten(),\n",
    "    tf.keras.layers.Dense(10, activation = 'relu'),\n",
    "    tf.keras.layers.Dense(1, activation = 'sigmoid')\n",
    "])\n",
    "\n",
    "# initializing optimizer\n",
    "opt = tf.keras.optimizers.Adamax(learning_rate = lr)\n",
    "\n",
    "# model summary\n",
    "model_thirteen.summary()"
   ]
  },
  {
   "cell_type": "code",
   "execution_count": 56,
   "metadata": {},
   "outputs": [
    {
     "name": "stdout",
     "output_type": "stream",
     "text": [
      "Epoch 1/20\n",
      "13/13 [==============================] - 14s 886ms/step - loss: 0.6125 - acc: 0.6646 - val_loss: 0.5212 - val_acc: 0.7550\n",
      "\n",
      "Epoch 00001: val_acc improved from -inf to 0.75500, saving model to best_val_acc_model_thirteen.h5\n",
      "Epoch 2/20\n",
      "13/13 [==============================] - 13s 786ms/step - loss: 0.5403 - acc: 0.7015 - val_loss: 0.4773 - val_acc: 0.7550\n",
      "\n",
      "Epoch 00002: val_acc did not improve from 0.75500\n",
      "Epoch 3/20\n",
      "13/13 [==============================] - 13s 758ms/step - loss: 0.4991 - acc: 0.7200 - val_loss: 0.4410 - val_acc: 0.7750\n",
      "\n",
      "Epoch 00003: val_acc improved from 0.75500 to 0.77500, saving model to best_val_acc_model_thirteen.h5\n",
      "Epoch 4/20\n",
      "13/13 [==============================] - 14s 865ms/step - loss: 0.4569 - acc: 0.7800 - val_loss: 0.4115 - val_acc: 0.8200\n",
      "\n",
      "Epoch 00004: val_acc improved from 0.77500 to 0.82000, saving model to best_val_acc_model_thirteen.h5\n",
      "Epoch 5/20\n",
      "13/13 [==============================] - 13s 746ms/step - loss: 0.4243 - acc: 0.8231 - val_loss: 0.3846 - val_acc: 0.8400\n",
      "\n",
      "Epoch 00005: val_acc improved from 0.82000 to 0.84000, saving model to best_val_acc_model_thirteen.h5\n",
      "Epoch 6/20\n",
      "13/13 [==============================] - 13s 793ms/step - loss: 0.3982 - acc: 0.8354 - val_loss: 0.3612 - val_acc: 0.8550\n",
      "\n",
      "Epoch 00006: val_acc improved from 0.84000 to 0.85500, saving model to best_val_acc_model_thirteen.h5\n",
      "Epoch 7/20\n",
      "13/13 [==============================] - 14s 769ms/step - loss: 0.3757 - acc: 0.8462 - val_loss: 0.3414 - val_acc: 0.8650\n",
      "\n",
      "Epoch 00007: val_acc improved from 0.85500 to 0.86500, saving model to best_val_acc_model_thirteen.h5\n",
      "Epoch 8/20\n",
      "13/13 [==============================] - 13s 751ms/step - loss: 0.3559 - acc: 0.8585 - val_loss: 0.3244 - val_acc: 0.8850\n",
      "\n",
      "Epoch 00008: val_acc improved from 0.86500 to 0.88500, saving model to best_val_acc_model_thirteen.h5\n",
      "Epoch 9/20\n",
      "13/13 [==============================] - 13s 854ms/step - loss: 0.3379 - acc: 0.8708 - val_loss: 0.3085 - val_acc: 0.8850\n",
      "\n",
      "Epoch 00009: val_acc did not improve from 0.88500\n",
      "Epoch 10/20\n",
      "13/13 [==============================] - 14s 812ms/step - loss: 0.3197 - acc: 0.8785 - val_loss: 0.2903 - val_acc: 0.8950\n",
      "\n",
      "Epoch 00010: val_acc improved from 0.88500 to 0.89500, saving model to best_val_acc_model_thirteen.h5\n",
      "Epoch 11/20\n",
      "13/13 [==============================] - 13s 758ms/step - loss: 0.3006 - acc: 0.8938 - val_loss: 0.2727 - val_acc: 0.9150\n",
      "\n",
      "Epoch 00011: val_acc improved from 0.89500 to 0.91500, saving model to best_val_acc_model_thirteen.h5\n",
      "Epoch 12/20\n",
      "13/13 [==============================] - 13s 797ms/step - loss: 0.2842 - acc: 0.8985 - val_loss: 0.2598 - val_acc: 0.9200\n",
      "\n",
      "Epoch 00012: val_acc improved from 0.91500 to 0.92000, saving model to best_val_acc_model_thirteen.h5\n",
      "Epoch 13/20\n",
      "13/13 [==============================] - 13s 814ms/step - loss: 0.2700 - acc: 0.9092 - val_loss: 0.2467 - val_acc: 0.9200\n",
      "\n",
      "Epoch 00013: val_acc did not improve from 0.92000\n",
      "Epoch 14/20\n",
      "13/13 [==============================] - 13s 747ms/step - loss: 0.2554 - acc: 0.9108 - val_loss: 0.2324 - val_acc: 0.9400\n",
      "\n",
      "Epoch 00014: val_acc improved from 0.92000 to 0.94000, saving model to best_val_acc_model_thirteen.h5\n",
      "Epoch 15/20\n",
      "13/13 [==============================] - 13s 744ms/step - loss: 0.2428 - acc: 0.9123 - val_loss: 0.2201 - val_acc: 0.9400\n",
      "\n",
      "Epoch 00015: val_acc did not improve from 0.94000\n",
      "Epoch 16/20\n",
      "13/13 [==============================] - 13s 827ms/step - loss: 0.2306 - acc: 0.9200 - val_loss: 0.2086 - val_acc: 0.9500\n",
      "\n",
      "Epoch 00016: val_acc improved from 0.94000 to 0.95000, saving model to best_val_acc_model_thirteen.h5\n",
      "Epoch 17/20\n",
      "13/13 [==============================] - 13s 741ms/step - loss: 0.2184 - acc: 0.9231 - val_loss: 0.1979 - val_acc: 0.9450\n",
      "\n",
      "Epoch 00017: val_acc did not improve from 0.95000\n",
      "Epoch 18/20\n",
      "13/13 [==============================] - 13s 767ms/step - loss: 0.2074 - acc: 0.9323 - val_loss: 0.1883 - val_acc: 0.9400\n",
      "\n",
      "Epoch 00018: val_acc did not improve from 0.95000\n",
      "Epoch 19/20\n",
      "13/13 [==============================] - 13s 755ms/step - loss: 0.1974 - acc: 0.9369 - val_loss: 0.1801 - val_acc: 0.9450\n",
      "\n",
      "Epoch 00019: val_acc did not improve from 0.95000\n",
      "Epoch 20/20\n",
      "13/13 [==============================] - 13s 755ms/step - loss: 0.1887 - acc: 0.9400 - val_loss: 0.1715 - val_acc: 0.9450\n",
      "\n",
      "Epoch 00020: val_acc did not improve from 0.95000\n"
     ]
    }
   ],
   "source": [
    "# train the  model thirteen\n",
    "file_name = \"best_val_acc_model_thirteen.h5\"\n",
    "\n",
    "model_hist = train_model(opt, loss_func, metrics_list, model_thirteen, file_name)"
   ]
  },
  {
   "cell_type": "code",
   "execution_count": 57,
   "metadata": {},
   "outputs": [
    {
     "data": {
      "image/png": "[encoded data removed]",
      "text/plain": [
       "<Figure size 432x288 with 1 Axes>"
      ]
     },
     "metadata": {
      "needs_background": "light"
     },
     "output_type": "display_data"
    }
   ],
   "source": [
    "## plotting loss and accuracy functions for mode thirteen\n",
    "loss_acc_func(model_hist, \"model_thirteen\")"
   ]
  },
  {
   "cell_type": "code",
   "execution_count": 58,
   "metadata": {},
   "outputs": [
    {
     "name": "stdout",
     "output_type": "stream",
     "text": [
      "Convolutional layer description:  conv2d_27 : (3, 3, 3, 5)\n",
      "Number of filters in the convolutional layer : 5\n",
      "Learned features in this layer: (R G B) channels\n"
     ]
    },
    {
     "data": {
      "image/png": "[encoded data removed]",
      "text/plain": [
       "<Figure size 432x288 with 15 Axes>"
      ]
     },
     "metadata": {},
     "output_type": "display_data"
    },
    {
     "name": "stdout",
     "output_type": "stream",
     "text": [
      "Convolutional layer description:  conv2d_28 : (3, 3, 5, 10)\n",
      "Number of filters in the convolutional layer : 10\n",
      "Learned features in this layer: (R G B) channels\n"
     ]
    },
    {
     "data": {
      "image/png": "[encoded data removed]",
      "text/plain": [
       "<Figure size 432x288 with 30 Axes>"
      ]
     },
     "metadata": {},
     "output_type": "display_data"
    }
   ],
   "source": [
    "# displaying filters learned by model thirteen\n",
    "display_filters(model_thirteen)"
   ]
  },
  {
   "cell_type": "markdown",
   "metadata": {},
   "source": [
    "# **Experimenting with different learning rates using the Adam optimizer:**"
   ]
  },
  {
   "cell_type": "markdown",
   "metadata": {},
   "source": [
    "## **Model fourteen:**"
   ]
  },
  {
   "cell_type": "code",
   "execution_count": 59,
   "metadata": {},
   "outputs": [
    {
     "name": "stdout",
     "output_type": "stream",
     "text": [
      "Model: \"sequential_13\"\n",
      "_________________________________________________________________\n",
      "Layer (type)                 Output Shape              Param #   \n",
      "=================================================================\n",
      "conv2d_29 (Conv2D)           (None, 148, 148, 5)       140       \n",
      "_________________________________________________________________\n",
      "max_pooling2d_29 (MaxPooling (None, 74, 74, 5)         0         \n",
      "_________________________________________________________________\n",
      "conv2d_30 (Conv2D)           (None, 72, 72, 10)        460       \n",
      "_________________________________________________________________\n",
      "max_pooling2d_30 (MaxPooling (None, 36, 36, 10)        0         \n",
      "_________________________________________________________________\n",
      "flatten_13 (Flatten)         (None, 12960)             0         \n",
      "_________________________________________________________________\n",
      "dense_26 (Dense)             (None, 10)                129610    \n",
      "_________________________________________________________________\n",
      "dense_27 (Dense)             (None, 1)                 11        \n",
      "=================================================================\n",
      "Total params: 130,221\n",
      "Trainable params: 130,221\n",
      "Non-trainable params: 0\n",
      "_________________________________________________________________\n"
     ]
    }
   ],
   "source": [
    "#Constructing the  model fourteen\n",
    "model_fourteen = tf.keras.models.Sequential([\n",
    "    tf.keras.layers.Conv2D(5, (3,3), activation = 'relu', input_shape=(150,150,3)),\n",
    "    tf.keras.layers.MaxPooling2D((2,2)),\n",
    "    tf.keras.layers.Conv2D(10, (3,3), activation = 'relu'),\n",
    "    tf.keras.layers.MaxPooling2D(2,2),\n",
    "    tf.keras.layers.Flatten(),\n",
    "    tf.keras.layers.Dense(10, activation = 'relu'),\n",
    "    tf.keras.layers.Dense(1, activation = 'sigmoid')\n",
    "])\n",
    "\n",
    "# initializing optimizer\n",
    "opt = tf.keras.optimizers.Adam(learning_rate = 0.01)\n",
    "\n",
    "# model summary\n",
    "model_fourteen.summary()"
   ]
  },
  {
   "cell_type": "code",
   "execution_count": 60,
   "metadata": {},
   "outputs": [
    {
     "name": "stdout",
     "output_type": "stream",
     "text": [
      "Epoch 1/20\n",
      "13/13 [==============================] - 14s 933ms/step - loss: 3.5381 - acc: 0.4862 - val_loss: 0.6863 - val_acc: 0.7550\n",
      "\n",
      "Epoch 00001: val_acc improved from -inf to 0.75500, saving model to best_val_acc_model_fourteen.h5\n",
      "Epoch 2/20\n",
      "13/13 [==============================] - 13s 757ms/step - loss: 0.6796 - acc: 0.7000 - val_loss: 0.6636 - val_acc: 0.7550\n",
      "\n",
      "Epoch 00002: val_acc did not improve from 0.75500\n",
      "Epoch 3/20\n",
      "13/13 [==============================] - 14s 820ms/step - loss: 0.6624 - acc: 0.7000 - val_loss: 0.6416 - val_acc: 0.7550\n",
      "\n",
      "Epoch 00003: val_acc did not improve from 0.75500\n",
      "Epoch 4/20\n",
      "13/13 [==============================] - 13s 726ms/step - loss: 0.6476 - acc: 0.7000 - val_loss: 0.6234 - val_acc: 0.7550\n",
      "\n",
      "Epoch 00004: val_acc did not improve from 0.75500\n",
      "Epoch 5/20\n",
      "13/13 [==============================] - 13s 722ms/step - loss: 0.6362 - acc: 0.7000 - val_loss: 0.6090 - val_acc: 0.7550\n",
      "\n",
      "Epoch 00005: val_acc did not improve from 0.75500\n",
      "Epoch 6/20\n",
      "13/13 [==============================] - 13s 773ms/step - loss: 0.6278 - acc: 0.7000 - val_loss: 0.5982 - val_acc: 0.7550\n",
      "\n",
      "Epoch 00006: val_acc did not improve from 0.75500\n",
      "Epoch 7/20\n",
      "13/13 [==============================] - 14s 803ms/step - loss: 0.6222 - acc: 0.7000 - val_loss: 0.5894 - val_acc: 0.7550\n",
      "\n",
      "Epoch 00007: val_acc did not improve from 0.75500\n",
      "Epoch 8/20\n",
      "13/13 [==============================] - 14s 832ms/step - loss: 0.6182 - acc: 0.7000 - val_loss: 0.5827 - val_acc: 0.7550\n",
      "\n",
      "Epoch 00008: val_acc did not improve from 0.75500\n",
      "Epoch 9/20\n",
      "13/13 [==============================] - 13s 753ms/step - loss: 0.6155 - acc: 0.7000 - val_loss: 0.5779 - val_acc: 0.7550\n",
      "\n",
      "Epoch 00009: val_acc did not improve from 0.75500\n",
      "Epoch 10/20\n",
      "13/13 [==============================] - 13s 826ms/step - loss: 0.6136 - acc: 0.7000 - val_loss: 0.5748 - val_acc: 0.7550\n",
      "\n",
      "Epoch 00010: val_acc did not improve from 0.75500\n",
      "Epoch 11/20\n",
      "13/13 [==============================] - 13s 797ms/step - loss: 0.6129 - acc: 0.7000 - val_loss: 0.5715 - val_acc: 0.7550\n",
      "\n",
      "Epoch 00011: val_acc did not improve from 0.75500\n",
      "Epoch 12/20\n",
      "13/13 [==============================] - 14s 768ms/step - loss: 0.6119 - acc: 0.7000 - val_loss: 0.5699 - val_acc: 0.7550\n",
      "\n",
      "Epoch 00012: val_acc did not improve from 0.75500\n",
      "Epoch 13/20\n",
      "13/13 [==============================] - 13s 711ms/step - loss: 0.6115 - acc: 0.7000 - val_loss: 0.5683 - val_acc: 0.7550\n",
      "\n",
      "Epoch 00013: val_acc did not improve from 0.75500\n",
      "Epoch 14/20\n",
      "13/13 [==============================] - 14s 796ms/step - loss: 0.6112 - acc: 0.7000 - val_loss: 0.5673 - val_acc: 0.7550\n",
      "\n",
      "Epoch 00014: val_acc did not improve from 0.75500\n",
      "Epoch 15/20\n",
      "13/13 [==============================] - 13s 772ms/step - loss: 0.6111 - acc: 0.7000 - val_loss: 0.5670 - val_acc: 0.7550\n",
      "\n",
      "Epoch 00015: val_acc did not improve from 0.75500\n",
      "Epoch 16/20\n",
      "13/13 [==============================] - 13s 739ms/step - loss: 0.6111 - acc: 0.7000 - val_loss: 0.5657 - val_acc: 0.7550\n",
      "\n",
      "Epoch 00016: val_acc did not improve from 0.75500\n",
      "Epoch 17/20\n",
      "13/13 [==============================] - 13s 781ms/step - loss: 0.6109 - acc: 0.7000 - val_loss: 0.5653 - val_acc: 0.7550\n",
      "\n",
      "Epoch 00017: val_acc did not improve from 0.75500\n",
      "Epoch 18/20\n",
      "13/13 [==============================] - 13s 752ms/step - loss: 0.6109 - acc: 0.7000 - val_loss: 0.5651 - val_acc: 0.7550\n",
      "\n",
      "Epoch 00018: val_acc did not improve from 0.75500\n",
      "Epoch 19/20\n",
      "13/13 [==============================] - 13s 724ms/step - loss: 0.6110 - acc: 0.7000 - val_loss: 0.5646 - val_acc: 0.7550\n",
      "\n",
      "Epoch 00019: val_acc did not improve from 0.75500\n",
      "Epoch 20/20\n",
      "13/13 [==============================] - 13s 737ms/step - loss: 0.6109 - acc: 0.7000 - val_loss: 0.5649 - val_acc: 0.7550\n",
      "\n",
      "Epoch 00020: val_acc did not improve from 0.75500\n"
     ]
    }
   ],
   "source": [
    "# train the  model fourteen\n",
    "file_name = \"best_val_acc_model_fourteen.h5\"\n",
    "model_hist = train_model(opt, loss_func, metrics_list, model_fourteen, file_name)"
   ]
  },
  {
   "cell_type": "code",
   "execution_count": 61,
   "metadata": {},
   "outputs": [
    {
     "data": {
      "image/png": "[encoded data removed]",
      "text/plain": [
       "<Figure size 432x288 with 1 Axes>"
      ]
     },
     "metadata": {
      "needs_background": "light"
     },
     "output_type": "display_data"
    }
   ],
   "source": [
    "## plotting loss and accuracy functions for mode fourteen\n",
    "loss_acc_func(model_hist, \"model_fourteen\")"
   ]
  },
  {
   "cell_type": "code",
   "execution_count": 62,
   "metadata": {},
   "outputs": [
    {
     "name": "stdout",
     "output_type": "stream",
     "text": [
      "Convolutional layer description:  conv2d_29 : (3, 3, 3, 5)\n",
      "Number of filters in the convolutional layer : 5\n",
      "Learned features in this layer: (R G B) channels\n"
     ]
    },
    {
     "data": {
      "image/png": "[encoded data removed]",
      "text/plain": [
       "<Figure size 432x288 with 15 Axes>"
      ]
     },
     "metadata": {},
     "output_type": "display_data"
    },
    {
     "name": "stdout",
     "output_type": "stream",
     "text": [
      "Convolutional layer description:  conv2d_30 : (3, 3, 5, 10)\n",
      "Number of filters in the convolutional layer : 10\n",
      "Learned features in this layer: (R G B) channels\n"
     ]
    },
    {
     "data": {
      "image/png": "[encoded data removed]",
      "text/plain": [
       "<Figure size 432x288 with 30 Axes>"
      ]
     },
     "metadata": {},
     "output_type": "display_data"
    }
   ],
   "source": [
    "# displaying filters learned by model fourteen\n",
    "display_filters(model_fourteen)\n",
    "model_fourteen.save('model_fourteen.h5')"
   ]
  },
  {
   "cell_type": "markdown",
   "metadata": {},
   "source": [
    "## **Model fifteen:**"
   ]
  },
  {
   "cell_type": "code",
   "execution_count": 63,
   "metadata": {},
   "outputs": [
    {
     "name": "stdout",
     "output_type": "stream",
     "text": [
      "Model: \"sequential_14\"\n",
      "_________________________________________________________________\n",
      "Layer (type)                 Output Shape              Param #   \n",
      "=================================================================\n",
      "conv2d_31 (Conv2D)           (None, 148, 148, 5)       140       \n",
      "_________________________________________________________________\n",
      "max_pooling2d_31 (MaxPooling (None, 74, 74, 5)         0         \n",
      "_________________________________________________________________\n",
      "conv2d_32 (Conv2D)           (None, 72, 72, 10)        460       \n",
      "_________________________________________________________________\n",
      "max_pooling2d_32 (MaxPooling (None, 36, 36, 10)        0         \n",
      "_________________________________________________________________\n",
      "flatten_14 (Flatten)         (None, 12960)             0         \n",
      "_________________________________________________________________\n",
      "dense_28 (Dense)             (None, 10)                129610    \n",
      "_________________________________________________________________\n",
      "dense_29 (Dense)             (None, 1)                 11        \n",
      "=================================================================\n",
      "Total params: 130,221\n",
      "Trainable params: 130,221\n",
      "Non-trainable params: 0\n",
      "_________________________________________________________________\n"
     ]
    }
   ],
   "source": [
    "#Constructing the  model fourteen\n",
    "model_fifteen = tf.keras.models.Sequential([\n",
    "    tf.keras.layers.Conv2D(5, (3,3), activation = 'relu', input_shape=(150,150,3)),\n",
    "    tf.keras.layers.MaxPooling2D((2,2)),\n",
    "    tf.keras.layers.Conv2D(10, (3,3), activation = 'relu'),\n",
    "    tf.keras.layers.MaxPooling2D(2,2),\n",
    "    tf.keras.layers.Flatten(),\n",
    "    tf.keras.layers.Dense(10, activation = 'relu'),\n",
    "    tf.keras.layers.Dense(1, activation = 'sigmoid')\n",
    "])\n",
    "\n",
    "# initializing optimizer\n",
    "opt = tf.keras.optimizers.Adam(learning_rate = 0.00001)\n",
    "\n",
    "# model summary\n",
    "model_fifteen.summary()"
   ]
  },
  {
   "cell_type": "code",
   "execution_count": 64,
   "metadata": {},
   "outputs": [
    {
     "name": "stdout",
     "output_type": "stream",
     "text": [
      "Epoch 1/20\n",
      "13/13 [==============================] - 14s 831ms/step - loss: 0.6579 - acc: 0.6969 - val_loss: 0.6330 - val_acc: 0.7550\n",
      "\n",
      "Epoch 00001: val_acc improved from -inf to 0.75500, saving model to best_val_acc_model_fifteen.h5\n",
      "Epoch 2/20\n",
      "13/13 [==============================] - 13s 897ms/step - loss: 0.6464 - acc: 0.7000 - val_loss: 0.6195 - val_acc: 0.7550\n",
      "\n",
      "Epoch 00002: val_acc did not improve from 0.75500\n",
      "Epoch 3/20\n",
      "13/13 [==============================] - 15s 858ms/step - loss: 0.6376 - acc: 0.7000 - val_loss: 0.6111 - val_acc: 0.7550\n",
      "\n",
      "Epoch 00003: val_acc did not improve from 0.75500\n",
      "Epoch 4/20\n",
      "13/13 [==============================] - 16s 960ms/step - loss: 0.6309 - acc: 0.7000 - val_loss: 0.6044 - val_acc: 0.7550\n",
      "\n",
      "Epoch 00004: val_acc did not improve from 0.75500\n",
      "Epoch 5/20\n",
      "13/13 [==============================] - 17s 914ms/step - loss: 0.6251 - acc: 0.7000 - val_loss: 0.5973 - val_acc: 0.7550\n",
      "\n",
      "Epoch 00005: val_acc did not improve from 0.75500\n",
      "Epoch 6/20\n",
      "13/13 [==============================] - 20s 1s/step - loss: 0.6187 - acc: 0.7000 - val_loss: 0.5912 - val_acc: 0.7550\n",
      "\n",
      "Epoch 00006: val_acc did not improve from 0.75500\n",
      "Epoch 7/20\n",
      "13/13 [==============================] - 14s 765ms/step - loss: 0.6123 - acc: 0.7000 - val_loss: 0.5856 - val_acc: 0.7550\n",
      "\n",
      "Epoch 00007: val_acc did not improve from 0.75500\n",
      "Epoch 8/20\n",
      "13/13 [==============================] - 13s 732ms/step - loss: 0.6058 - acc: 0.7000 - val_loss: 0.5789 - val_acc: 0.7550\n",
      "\n",
      "Epoch 00008: val_acc did not improve from 0.75500\n",
      "Epoch 9/20\n",
      "13/13 [==============================] - 15s 831ms/step - loss: 0.5987 - acc: 0.7000 - val_loss: 0.5731 - val_acc: 0.7550\n",
      "\n",
      "Epoch 00009: val_acc did not improve from 0.75500\n",
      "Epoch 10/20\n",
      "13/13 [==============================] - 14s 785ms/step - loss: 0.5912 - acc: 0.7000 - val_loss: 0.5650 - val_acc: 0.7550\n",
      "\n",
      "Epoch 00010: val_acc did not improve from 0.75500\n",
      "Epoch 11/20\n",
      "13/13 [==============================] - 14s 840ms/step - loss: 0.5829 - acc: 0.7000 - val_loss: 0.5541 - val_acc: 0.7550\n",
      "\n",
      "Epoch 00011: val_acc did not improve from 0.75500\n",
      "Epoch 12/20\n",
      "13/13 [==============================] - 14s 786ms/step - loss: 0.5717 - acc: 0.7000 - val_loss: 0.5441 - val_acc: 0.7550\n",
      "\n",
      "Epoch 00012: val_acc did not improve from 0.75500\n",
      "Epoch 13/20\n",
      "13/13 [==============================] - 15s 874ms/step - loss: 0.5599 - acc: 0.7046 - val_loss: 0.5337 - val_acc: 0.7550\n",
      "\n",
      "Epoch 00013: val_acc did not improve from 0.75500\n",
      "Epoch 14/20\n",
      "13/13 [==============================] - 16s 953ms/step - loss: 0.5492 - acc: 0.7092 - val_loss: 0.5215 - val_acc: 0.7550\n",
      "\n",
      "Epoch 00014: val_acc did not improve from 0.75500\n",
      "Epoch 15/20\n",
      "13/13 [==============================] - 19s 1s/step - loss: 0.5387 - acc: 0.7123 - val_loss: 0.5129 - val_acc: 0.7650\n",
      "\n",
      "Epoch 00015: val_acc improved from 0.75500 to 0.76500, saving model to best_val_acc_model_fifteen.h5\n",
      "Epoch 16/20\n",
      "13/13 [==============================] - 15s 834ms/step - loss: 0.5293 - acc: 0.7292 - val_loss: 0.5064 - val_acc: 0.7650\n",
      "\n",
      "Epoch 00016: val_acc did not improve from 0.76500\n",
      "Epoch 17/20\n",
      "13/13 [==============================] - 16s 1s/step - loss: 0.5196 - acc: 0.7415 - val_loss: 0.4956 - val_acc: 0.7600\n",
      "\n",
      "Epoch 00017: val_acc did not improve from 0.76500\n",
      "Epoch 18/20\n",
      "13/13 [==============================] - 15s 842ms/step - loss: 0.5103 - acc: 0.7462 - val_loss: 0.4875 - val_acc: 0.7700\n",
      "\n",
      "Epoch 00018: val_acc improved from 0.76500 to 0.77000, saving model to best_val_acc_model_fifteen.h5\n",
      "Epoch 19/20\n",
      "13/13 [==============================] - 15s 922ms/step - loss: 0.5014 - acc: 0.7569 - val_loss: 0.4806 - val_acc: 0.7900\n",
      "\n",
      "Epoch 00019: val_acc improved from 0.77000 to 0.79000, saving model to best_val_acc_model_fifteen.h5\n",
      "Epoch 20/20\n",
      "13/13 [==============================] - 14s 817ms/step - loss: 0.4932 - acc: 0.7631 - val_loss: 0.4734 - val_acc: 0.8050\n",
      "\n",
      "Epoch 00020: val_acc improved from 0.79000 to 0.80500, saving model to best_val_acc_model_fifteen.h5\n"
     ]
    }
   ],
   "source": [
    "# train the  model fifteen\n",
    "file_name = \"best_val_acc_model_fifteen.h5\"\n",
    "model_hist = train_model(opt, loss_func, metrics_list, model_fifteen,file_name)"
   ]
  },
  {
   "cell_type": "code",
   "execution_count": 65,
   "metadata": {},
   "outputs": [
    {
     "data": {
      "image/png": "[encoded data removed]",
      "text/plain": [
       "<Figure size 432x288 with 1 Axes>"
      ]
     },
     "metadata": {
      "needs_background": "light"
     },
     "output_type": "display_data"
    }
   ],
   "source": [
    "## plotting loss and accuracy functions for mode fifteen\n",
    "loss_acc_func(model_hist, \"model_fifteen\")"
   ]
  },
  {
   "cell_type": "code",
   "execution_count": 66,
   "metadata": {},
   "outputs": [
    {
     "name": "stdout",
     "output_type": "stream",
     "text": [
      "Convolutional layer description:  conv2d_31 : (3, 3, 3, 5)\n",
      "Number of filters in the convolutional layer : 5\n",
      "Learned features in this layer: (R G B) channels\n"
     ]
    },
    {
     "data": {
      "image/png": "[encoded data removed]",
      "text/plain": [
       "<Figure size 432x288 with 15 Axes>"
      ]
     },
     "metadata": {},
     "output_type": "display_data"
    },
    {
     "name": "stdout",
     "output_type": "stream",
     "text": [
      "Convolutional layer description:  conv2d_32 : (3, 3, 5, 10)\n",
      "Number of filters in the convolutional layer : 10\n",
      "Learned features in this layer: (R G B) channels\n"
     ]
    },
    {
     "data": {
      "image/png": "[encoded data removed]",
      "text/plain": [
       "<Figure size 432x288 with 30 Axes>"
      ]
     },
     "metadata": {},
     "output_type": "display_data"
    }
   ],
   "source": [
    "# displaying filters learned by model fifteen\n",
    "display_filters(model_fifteen)\n",
    "model_fifteen.save('model_fifteen.h5')"
   ]
  },
  {
   "cell_type": "markdown",
   "metadata": {},
   "source": [
    "## **Model sixteen:**"
   ]
  },
  {
   "cell_type": "code",
   "execution_count": 67,
   "metadata": {},
   "outputs": [
    {
     "name": "stdout",
     "output_type": "stream",
     "text": [
      "Model: \"sequential_15\"\n",
      "_________________________________________________________________\n",
      "Layer (type)                 Output Shape              Param #   \n",
      "=================================================================\n",
      "conv2d_33 (Conv2D)           (None, 148, 148, 5)       140       \n",
      "_________________________________________________________________\n",
      "max_pooling2d_33 (MaxPooling (None, 74, 74, 5)         0         \n",
      "_________________________________________________________________\n",
      "conv2d_34 (Conv2D)           (None, 72, 72, 10)        460       \n",
      "_________________________________________________________________\n",
      "max_pooling2d_34 (MaxPooling (None, 36, 36, 10)        0         \n",
      "_________________________________________________________________\n",
      "flatten_15 (Flatten)         (None, 12960)             0         \n",
      "_________________________________________________________________\n",
      "dense_30 (Dense)             (None, 10)                129610    \n",
      "_________________________________________________________________\n",
      "dense_31 (Dense)             (None, 1)                 11        \n",
      "=================================================================\n",
      "Total params: 130,221\n",
      "Trainable params: 130,221\n",
      "Non-trainable params: 0\n",
      "_________________________________________________________________\n"
     ]
    }
   ],
   "source": [
    "#Constructing the  model sixteen\n",
    "model_sixteen = tf.keras.models.Sequential([\n",
    "    tf.keras.layers.Conv2D(5, (3,3), activation = 'relu', input_shape=(150,150,3)),\n",
    "    tf.keras.layers.MaxPooling2D((2,2)),\n",
    "    tf.keras.layers.Conv2D(10, (3,3), activation = 'relu'),\n",
    "    tf.keras.layers.MaxPooling2D(2,2),\n",
    "    tf.keras.layers.Flatten(),\n",
    "    tf.keras.layers.Dense(10, activation = 'relu'),\n",
    "    tf.keras.layers.Dense(1, activation = 'sigmoid')\n",
    "])\n",
    "\n",
    "# initializing optimizer\n",
    "opt = tf.keras.optimizers.Adam(learning_rate = 1e-6)\n",
    "\n",
    "# model summary\n",
    "model_sixteen.summary()"
   ]
  },
  {
   "cell_type": "code",
   "execution_count": null,
   "metadata": {},
   "outputs": [
    {
     "name": "stdout",
     "output_type": "stream",
     "text": [
      "Epoch 1/20\n",
      "13/13 [==============================] - 20s 1s/step - loss: 0.7045 - acc: 0.4108 - val_loss: 0.7101 - val_acc: 0.3450\n",
      "\n",
      "Epoch 00001: val_acc improved from -inf to 0.34500, saving model to best_val_acc_model_sixteen.h5\n",
      "Epoch 2/20\n",
      "13/13 [==============================] - 15s 846ms/step - loss: 0.7002 - acc: 0.4631 - val_loss: 0.7054 - val_acc: 0.3950\n",
      "\n",
      "Epoch 00002: val_acc improved from 0.34500 to 0.39500, saving model to best_val_acc_model_sixteen.h5\n",
      "Epoch 3/20\n",
      "13/13 [==============================] - 15s 820ms/step - loss: 0.6964 - acc: 0.4985 - val_loss: 0.7010 - val_acc: 0.4650\n",
      "\n",
      "Epoch 00003: val_acc improved from 0.39500 to 0.46500, saving model to best_val_acc_model_sixteen.h5\n",
      "Epoch 4/20\n",
      "13/13 [==============================] - 18s 983ms/step - loss: 0.6929 - acc: 0.5415 - val_loss: 0.6972 - val_acc: 0.4950\n",
      "\n",
      "Epoch 00004: val_acc improved from 0.46500 to 0.49500, saving model to best_val_acc_model_sixteen.h5\n",
      "Epoch 5/20\n",
      "13/13 [==============================] - 16s 940ms/step - loss: 0.6899 - acc: 0.5846 - val_loss: 0.6935 - val_acc: 0.5600\n",
      "\n",
      "Epoch 00005: val_acc improved from 0.49500 to 0.56000, saving model to best_val_acc_model_sixteen.h5\n",
      "Epoch 6/20\n",
      "13/13 [==============================] - 14s 767ms/step - loss: 0.6870 - acc: 0.6138 - val_loss: 0.6902 - val_acc: 0.6050\n",
      "\n",
      "Epoch 00006: val_acc improved from 0.56000 to 0.60500, saving model to best_val_acc_model_sixteen.h5\n",
      "Epoch 7/20\n",
      "13/13 [==============================] - 15s 971ms/step - loss: 0.6842 - acc: 0.6415 - val_loss: 0.6867 - val_acc: 0.6750\n",
      "\n",
      "Epoch 00007: val_acc improved from 0.60500 to 0.67500, saving model to best_val_acc_model_sixteen.h5\n",
      "Epoch 8/20\n",
      "13/13 [==============================] - 19s 1s/step - loss: 0.6812 - acc: 0.6677 - val_loss: 0.6829 - val_acc: 0.6650\n",
      "\n",
      "Epoch 00008: val_acc did not improve from 0.67500\n",
      "Epoch 9/20\n",
      "13/13 [==============================] - 15s 913ms/step - loss: 0.6779 - acc: 0.7123 - val_loss: 0.6792 - val_acc: 0.6800\n",
      "\n",
      "Epoch 00009: val_acc improved from 0.67500 to 0.68000, saving model to best_val_acc_model_sixteen.h5\n",
      "Epoch 10/20\n",
      "13/13 [==============================] - 15s 871ms/step - loss: 0.6750 - acc: 0.7200 - val_loss: 0.6747 - val_acc: 0.7400\n",
      "\n",
      "Epoch 00010: val_acc improved from 0.68000 to 0.74000, saving model to best_val_acc_model_sixteen.h5\n",
      "Epoch 11/20\n",
      "13/13 [==============================] - 17s 1s/step - loss: 0.6715 - acc: 0.7415 - val_loss: 0.6703 - val_acc: 0.7600\n",
      "\n",
      "Epoch 00011: val_acc improved from 0.74000 to 0.76000, saving model to best_val_acc_model_sixteen.h5\n",
      "Epoch 12/20\n",
      "13/13 [==============================] - 18s 931ms/step - loss: 0.6680 - acc: 0.7508 - val_loss: 0.6660 - val_acc: 0.7700\n",
      "\n",
      "Epoch 00012: val_acc improved from 0.76000 to 0.77000, saving model to best_val_acc_model_sixteen.h5\n",
      "Epoch 13/20\n",
      "13/13 [==============================] - 23s 1s/step - loss: 0.6644 - acc: 0.7462 - val_loss: 0.6614 - val_acc: 0.7800\n",
      "\n",
      "Epoch 00013: val_acc improved from 0.77000 to 0.78000, saving model to best_val_acc_model_sixteen.h5\n",
      "Epoch 14/20\n",
      "13/13 [==============================] - 16s 1s/step - loss: 0.6608 - acc: 0.7369 - val_loss: 0.6568 - val_acc: 0.7700\n",
      "\n",
      "Epoch 00014: val_acc did not improve from 0.78000\n",
      "Epoch 15/20\n",
      "13/13 [==============================] - ETA: 0s - loss: 0.6569 - acc: 0.7369"
     ]
    }
   ],
   "source": [
    "# train the  model sixteen\n",
    "file_name = \"best_val_acc_model_sixteen.h5\"\n",
    "model_hist = train_model(opt, loss_func, metrics_list, model_sixteen, file_name)"
   ]
  },
  {
   "cell_type": "code",
   "execution_count": null,
   "metadata": {},
   "outputs": [],
   "source": [
    "## plotting loss and accuracy functions for mode sixteen\n",
    "loss_acc_func(model_hist, \"model_sixteen\")"
   ]
  },
  {
   "cell_type": "code",
   "execution_count": null,
   "metadata": {},
   "outputs": [],
   "source": [
    "# displaying filters learned by model sixteen\n",
    "display_filters(model_sixteen)"
   ]
  }
 ],
 "metadata": {
  "colab": {
   "collapsed_sections": [],
   "name": "fire_detectors.ipynb",
   "provenance": []
  },
  "kernelspec": {
   "display_name": "Python 3",
   "language": "python",
   "name": "python3"
  },
  "language_info": {
   "codemirror_mode": {
    "name": "ipython",
    "version": 3
   },
   "file_extension": ".py",
   "mimetype": "text/x-python",
   "name": "python",
   "nbconvert_exporter": "python",
   "pygments_lexer": "ipython3",
   "version": "3.8.5"
  }
 },
 "nbformat": 4,
 "nbformat_minor": 4
}
